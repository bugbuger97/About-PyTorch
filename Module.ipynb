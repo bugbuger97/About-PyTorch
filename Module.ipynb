{
  "nbformat": 4,
  "nbformat_minor": 0,
  "metadata": {
    "colab": {
      "provenance": []
    },
    "kernelspec": {
      "name": "python3",
      "display_name": "Python 3"
    },
    "language_info": {
      "name": "python"
    }
  },
  "cells": [
    {
      "cell_type": "markdown",
      "source": [
        "# 목차\n",
        "\n",
        "1. 파이썬 - 타입, 라이브러리, 함수, 모듈, 클래스, 그래프 그리기\n",
        "\n",
        "2. 파이토치 - 텐서, 역전파, 데이터 불러오기\n",
        "\n",
        "3. 지도학습 - 집 값 예측, 이미지 분류, 주가 예측\n",
        "\n",
        "4. 전이학습\n",
        "\n",
        "5. 비지도 학습 - 오토인코더, 생성적 적대 신경망\n",
        "\n",
        "6. 시각화 - 설명 가능한 AI, 차원 축소 기법\n",
        "\n",
        "7. 성능 향상 - 과적합, 데이터 불균형 해결"
      ],
      "metadata": {
        "id": "SwgVv2Y4NWkh"
      }
    },
    {
      "cell_type": "markdown",
      "source": [
        "#Module\n",
        "\n",
        "코드를 구현할 때는 기능에 따라 파일을 별도로 만들어 전체적인 코드를 완성함.\n",
        "\n",
        "별도의 파일을 생성하기 때문에 다른 업무에서 동일 작업이 필요할 때 파일만 불러와서 사용할 수 있다.\n",
        "\n",
        "전역 변수, 함수 등을 포함한 별도의 파일"
      ],
      "metadata": {
        "id": "3liMjMZNqXsT"
      }
    },
    {
      "cell_type": "code",
      "source": [
        "from google.colab import drive\n",
        "drive.mount('/content/drive')"
      ],
      "metadata": {
        "colab": {
          "base_uri": "https://localhost:8080/"
        },
        "id": "7W1E483F8JLl",
        "outputId": "0f8c452f-f82c-4a69-bd52-f42c2b0f4653"
      },
      "execution_count": 4,
      "outputs": [
        {
          "output_type": "stream",
          "name": "stdout",
          "text": [
            "Mounted at /content/drive\n"
          ]
        }
      ]
    },
    {
      "cell_type": "code",
      "source": [
        "cd/content/drive/MyDrive/deeplearning/deeplearningbrov2/python"
      ],
      "metadata": {
        "colab": {
          "base_uri": "https://localhost:8080/"
        },
        "id": "PAJLtPhV8kMP",
        "outputId": "e9815796-7df0-444a-91a1-9808ed0dc82d"
      },
      "execution_count": 9,
      "outputs": [
        {
          "output_type": "stream",
          "name": "stdout",
          "text": [
            "/content/drive/MyDrive/deeplearning/deeplearningbrov2/python\n"
          ]
        }
      ]
    },
    {
      "cell_type": "code",
      "source": [
        "import numpy as np\n",
        "import models # 모듈\n",
        "# models.py를 불러옴\n",
        "# models.py안에 있는 함수를 불러옴"
      ],
      "metadata": {
        "id": "tMVTHW7e7sFx"
      },
      "execution_count": 10,
      "outputs": []
    },
    {
      "cell_type": "code",
      "source": [
        "data = np.random.randint(0,105, size=(10,5)) # 10행 5열 랜덤 데이터 뽑기"
      ],
      "metadata": {
        "id": "QWii3gHb7xb5"
      },
      "execution_count": 11,
      "outputs": []
    },
    {
      "cell_type": "code",
      "source": [
        "print(data)"
      ],
      "metadata": {
        "colab": {
          "base_uri": "https://localhost:8080/"
        },
        "id": "Rg3Knp309chZ",
        "outputId": "dfea1186-7d86-4315-9fbd-0570138ea150"
      },
      "execution_count": 12,
      "outputs": [
        {
          "output_type": "stream",
          "name": "stdout",
          "text": [
            "[[63 40  8 94 86]\n",
            " [87 64 24 15 77]\n",
            " [53 67 66 44 56]\n",
            " [ 3 39 32 95 82]\n",
            " [ 7 96 69 11 81]\n",
            " [39 94  9 79 79]\n",
            " [25 78 83 95 31]\n",
            " [51 99 73 75 44]\n",
            " [78 92 76 33 50]\n",
            " [77 12 87 43 35]]\n"
          ]
        }
      ]
    },
    {
      "cell_type": "code",
      "source": [
        "models.linear_regression(data)"
      ],
      "metadata": {
        "colab": {
          "base_uri": "https://localhost:8080/"
        },
        "id": "q6CTu-c69d_B",
        "outputId": "ef42a727-763d-45c8-f84d-d5c1f8b2c7eb"
      },
      "execution_count": 13,
      "outputs": [
        {
          "output_type": "stream",
          "name": "stdout",
          "text": [
            "Linear Regression\n"
          ]
        }
      ]
    },
    {
      "cell_type": "code",
      "source": [
        "models.gaussian_mixture(data)"
      ],
      "metadata": {
        "colab": {
          "base_uri": "https://localhost:8080/"
        },
        "id": "ZGT01h-j9jUJ",
        "outputId": "4ff76c8c-bf44-47c2-c1e8-6bca96bdd0d1"
      },
      "execution_count": 14,
      "outputs": [
        {
          "output_type": "stream",
          "name": "stdout",
          "text": [
            "Gaussian Mixture\n"
          ]
        }
      ]
    },
    {
      "cell_type": "code",
      "source": [
        "models.random_forest(data)"
      ],
      "metadata": {
        "colab": {
          "base_uri": "https://localhost:8080/"
        },
        "id": "23mkXCqu9qW4",
        "outputId": "0167d78a-4c80-4b6e-a20d-6a96cf15230c"
      },
      "execution_count": 15,
      "outputs": [
        {
          "output_type": "stream",
          "name": "stdout",
          "text": [
            "Random Forest\n"
          ]
        }
      ]
    }
  ]
}