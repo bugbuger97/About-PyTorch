{
  "nbformat": 4,
  "nbformat_minor": 0,
  "metadata": {
    "colab": {
      "provenance": []
    },
    "kernelspec": {
      "name": "python3",
      "display_name": "Python 3"
    },
    "language_info": {
      "name": "python"
    }
  },
  "cells": [
    {
      "cell_type": "markdown",
      "source": [
        "Torch : Torch is a tensor package with GPU support.\n",
        "\n",
        "torch.autograd : automatic differentiation package\n",
        "\n",
        "torch.nn : Neural network building and training package\n",
        "\n",
        "torch.multiprocessing : Multiprocessing-related package, mainly used when calculations must be performed using multiple GPUs\n",
        "\n",
        "torch.utils : Package that provides data-related classes and other utilities\n"
      ],
      "metadata": {
        "id": "T_3HVu7N3Foh"
      }
    },
    {
      "cell_type": "code",
      "execution_count": 2,
      "metadata": {
        "id": "qIncRJoXzh8P",
        "colab": {
          "base_uri": "https://localhost:8080/"
        },
        "outputId": "9cd8b7cc-fe39-477a-fc1b-874f53af89c4"
      },
      "outputs": [
        {
          "output_type": "stream",
          "name": "stdout",
          "text": [
            "tensor([0, 1, 2, 3, 4, 5, 6])\n",
            "1\n",
            "torch.Size([7])\n",
            "torch.Size([7])\n",
            "torch.int64\n"
          ]
        }
      ],
      "source": [
        "import torch\n",
        "\n",
        "t = torch.tensor([0,1,2,3,4,5,6])\n",
        "print(t)\n",
        "print(t.dim()) # rank\n",
        "print(t.shape)\n",
        "print(t.size()) # size() == shape\n",
        "print(t.dtype) # data type..."
      ]
    },
    {
      "cell_type": "code",
      "source": [
        "print(t[0],t[1],t[-1])\n",
        "print(t[2:5],t[4:-1]) # slicing\n",
        "print(t[:2],t[3:]) # slicing"
      ],
      "metadata": {
        "colab": {
          "base_uri": "https://localhost:8080/"
        },
        "id": "wBBhh7eE9rFr",
        "outputId": "73b81c8e-698b-49f6-921c-a5df6ea90f50"
      },
      "execution_count": null,
      "outputs": [
        {
          "output_type": "stream",
          "name": "stdout",
          "text": [
            "tensor(0) tensor(1) tensor(6)\n",
            "tensor([2, 3, 4]) tensor([4, 5])\n",
            "tensor([0, 1]) tensor([3, 4, 5, 6])\n"
          ]
        }
      ]
    },
    {
      "cell_type": "code",
      "source": [
        "# 2D tensor\n",
        "t = torch.FloatTensor([[1,2,3],[4,5,6],[7,8,9],[10,11,12]])\n",
        "print(t)\n",
        "print(t.shape)"
      ],
      "metadata": {
        "colab": {
          "base_uri": "https://localhost:8080/"
        },
        "id": "fiCXMOPMAS5m",
        "outputId": "0111e0a9-bb10-4cb1-99ff-69bfae474afa"
      },
      "execution_count": null,
      "outputs": [
        {
          "output_type": "stream",
          "name": "stdout",
          "text": [
            "tensor([[ 1.,  2.,  3.],\n",
            "        [ 4.,  5.,  6.],\n",
            "        [ 7.,  8.,  9.],\n",
            "        [10., 11., 12.]])\n",
            "torch.Size([4, 3])\n"
          ]
        }
      ]
    },
    {
      "cell_type": "code",
      "source": [
        "print(t[0,1])\n",
        "print(t[0][1])"
      ],
      "metadata": {
        "colab": {
          "base_uri": "https://localhost:8080/"
        },
        "id": "EC1FcdldDxF3",
        "outputId": "0ab0028c-6821-472e-8b50-a2e73351216d"
      },
      "execution_count": null,
      "outputs": [
        {
          "output_type": "stream",
          "name": "stdout",
          "text": [
            "tensor(2.)\n",
            "tensor(2.)\n"
          ]
        }
      ]
    },
    {
      "cell_type": "code",
      "source": [
        "print(t)\n",
        "print(t[:,1]) # t[row,column] -> Returns the value with column index 1 when all rows are selected.\n",
        "print(t[:,1].size())\n",
        "print('\\n')\n",
        "print(t[:][1]) # Treated like a list\n",
        "# You need to know exactly the difference between the two..."
      ],
      "metadata": {
        "id": "_s385J6PD5uZ",
        "colab": {
          "base_uri": "https://localhost:8080/"
        },
        "outputId": "0512f1b0-ef72-4881-f327-58dc7efb167e"
      },
      "execution_count": null,
      "outputs": [
        {
          "output_type": "stream",
          "name": "stdout",
          "text": [
            "tensor([[ 1.,  2.,  3.],\n",
            "        [ 4.,  5.,  6.],\n",
            "        [ 7.,  8.,  9.],\n",
            "        [10., 11., 12.]])\n",
            "tensor([ 2.,  5.,  8., 11.])\n",
            "torch.Size([4])\n",
            "\n",
            "\n",
            "tensor([4., 5., 6.])\n"
          ]
        }
      ]
    },
    {
      "cell_type": "code",
      "source": [
        "print(t[:,:-1]) # In a situation where all rows are selected, :-1 in a column means slicing up to index -2."
      ],
      "metadata": {
        "colab": {
          "base_uri": "https://localhost:8080/"
        },
        "id": "2wGANMr0_e1Z",
        "outputId": "7246fadf-86b3-4ad6-c663-d75aee27fda9"
      },
      "execution_count": null,
      "outputs": [
        {
          "output_type": "stream",
          "name": "stdout",
          "text": [
            "tensor([[ 1.,  2.],\n",
            "        [ 4.,  5.],\n",
            "        [ 7.,  8.],\n",
            "        [10., 11.]])\n"
          ]
        }
      ]
    },
    {
      "cell_type": "code",
      "source": [
        "# Broadcasting -> Basically, the two tensors must have the same shape.\n",
        "# The function of adjusting the tensor size and copying and filling in the values so that four arithmetic operations can be performed between tensors of different sizes is called broadcasting.\n",
        "m1 = torch.FloatTensor([1])\n",
        "m2 = torch.FloatTensor([[2,2]])\n",
        "print(m1+m2)"
      ],
      "metadata": {
        "colab": {
          "base_uri": "https://localhost:8080/"
        },
        "id": "rkQLeIcOBfpX",
        "outputId": "3fbcb231-4c64-4c00-c827-94d701c46886"
      },
      "execution_count": null,
      "outputs": [
        {
          "output_type": "stream",
          "name": "stdout",
          "text": [
            "tensor([[3., 3.]])\n"
          ]
        }
      ]
    },
    {
      "cell_type": "code",
      "source": [
        "m1 = torch.FloatTensor([[1,2],[3,4]])\n",
        "m2 = torch.FloatTensor([[4,5],[6,7]])\n",
        "\n",
        "print(m1*m2) # broadcasting\n",
        "print(m1.mul(m2)) # broadcasting"
      ],
      "metadata": {
        "colab": {
          "base_uri": "https://localhost:8080/"
        },
        "id": "LgwgxAsIDM-e",
        "outputId": "b18a8818-4e22-4f0d-c082-17415bd6e90d"
      },
      "execution_count": null,
      "outputs": [
        {
          "output_type": "stream",
          "name": "stdout",
          "text": [
            "tensor([[ 4., 10.],\n",
            "        [18., 28.]])\n",
            "tensor([[ 4., 10.],\n",
            "        [18., 28.]])\n"
          ]
        }
      ]
    },
    {
      "cell_type": "code",
      "source": [
        "print(m1.matmul(m2)) # matrix multiplication -> The commutative law does not apply and errors may occur if the sizes do not match."
      ],
      "metadata": {
        "colab": {
          "base_uri": "https://localhost:8080/"
        },
        "id": "c_FCoiuCEksM",
        "outputId": "265ad0b3-71a3-43aa-875a-dfc6000715a6"
      },
      "execution_count": null,
      "outputs": [
        {
          "output_type": "stream",
          "name": "stdout",
          "text": [
            "tensor([[16., 19.],\n",
            "        [36., 43.]])\n"
          ]
        }
      ]
    },
    {
      "cell_type": "code",
      "source": [
        "t = torch.FloatTensor([[1,2,3],[8,9,10]])\n",
        "print(t.mean())\n",
        "print(t.mean().item()) # To convert a scalar tensor into a Python variable, you can use the .item() method."
      ],
      "metadata": {
        "colab": {
          "base_uri": "https://localhost:8080/"
        },
        "id": "AQbw6ENSFykb",
        "outputId": "34307533-87ca-4295-cf57-4bc86c6cbc9d"
      },
      "execution_count": 3,
      "outputs": [
        {
          "output_type": "stream",
          "name": "stdout",
          "text": [
            "tensor(5.5000)\n",
            "5.5\n"
          ]
        }
      ]
    },
    {
      "cell_type": "code",
      "source": [
        "print(t.mean(dim=0)) # dim = 0: Calculate the average by grouping columns together.\n",
        "print(t.mean(dim=0).shape)"
      ],
      "metadata": {
        "id": "gfijDsLNGc4r",
        "colab": {
          "base_uri": "https://localhost:8080/"
        },
        "outputId": "8abaa039-5a9b-4578-e73d-238ba5682acf"
      },
      "execution_count": 6,
      "outputs": [
        {
          "output_type": "stream",
          "name": "stdout",
          "text": [
            "tensor([4.5000, 5.5000, 6.5000])\n",
            "torch.Size([3])\n"
          ]
        }
      ]
    },
    {
      "cell_type": "code",
      "source": [
        "print(t.mean(dim=1)) # t.mean(dim=1) == t.mean(dim=-1) : The average is calculated by grouping rows together.\n",
        "print(t.mean(dim=1).shape) # Because the dimension disappears completely, it is output in the form of shape [2]."
      ],
      "metadata": {
        "colab": {
          "base_uri": "https://localhost:8080/"
        },
        "id": "KhkQCwWxB2KH",
        "outputId": "90397f3d-9d02-4e27-d8e0-4c5b6e73c3e3"
      },
      "execution_count": 7,
      "outputs": [
        {
          "output_type": "stream",
          "name": "stdout",
          "text": [
            "tensor([2., 9.])\n",
            "torch.Size([2])\n"
          ]
        }
      ]
    },
    {
      "cell_type": "code",
      "source": [
        "t = torch.FloatTensor([[0,2,4],[6,8,10]])\n",
        "\n",
        "print(t.sum(),'\\n')\n",
        "print(t.sum(dim=0))\n",
        "print(t.sum(dim=0).shape,'\\n')\n",
        "print(t.sum(dim=1))\n",
        "print(t.sum(dim=1).shape,'\\n')\n",
        "print(t.sum(dim=-1))\n",
        "print(t.sum(dim=-1).shape,'\\n')"
      ],
      "metadata": {
        "colab": {
          "base_uri": "https://localhost:8080/"
        },
        "id": "9Dsx3fUTC0mA",
        "outputId": "22ebe8ca-7368-4ac4-9b00-ba49065805ca"
      },
      "execution_count": 15,
      "outputs": [
        {
          "output_type": "stream",
          "name": "stdout",
          "text": [
            "tensor(30.) \n",
            "\n",
            "tensor([ 6., 10., 14.])\n",
            "torch.Size([3]) \n",
            "\n",
            "tensor([ 6., 24.])\n",
            "torch.Size([2]) \n",
            "\n",
            "tensor([ 6., 24.])\n",
            "torch.Size([2]) \n",
            "\n"
          ]
        }
      ]
    },
    {
      "cell_type": "code",
      "source": [
        "print(t,'\\n')\n",
        "print(t.max(),'\\n')\n",
        "# Return maximum value and index information\n",
        "print(t.max(dim=0),'\\n')\n",
        "print(t.max(dim=1),'\\n')\n",
        "print(\"Values :\",t.max(dim=1)[0])\n",
        "print(\"idex location information :\",t.max(dim=1)[1])"
      ],
      "metadata": {
        "colab": {
          "base_uri": "https://localhost:8080/"
        },
        "id": "HfHgaowoEGVV",
        "outputId": "5dae6e13-27ed-4b82-94cd-9193f629815f"
      },
      "execution_count": 20,
      "outputs": [
        {
          "output_type": "stream",
          "name": "stdout",
          "text": [
            "tensor([[ 0.,  2.,  4.],\n",
            "        [ 6.,  8., 10.]]) \n",
            "\n",
            "tensor(10.) \n",
            "\n",
            "torch.return_types.max(\n",
            "values=tensor([ 6.,  8., 10.]),\n",
            "indices=tensor([1, 1, 1])) \n",
            "\n",
            "torch.return_types.max(\n",
            "values=tensor([ 4., 10.]),\n",
            "indices=tensor([2, 2])) \n",
            "\n",
            "Values : tensor([ 4., 10.])\n",
            "idex location information : tensor([2, 2])\n"
          ]
        }
      ]
    },
    {
      "cell_type": "code",
      "source": [
        "t = torch.FloatTensor([[[1,3,5],[7,9,11]],[[0,2,4],[6,8,10]]])\n",
        "print(t)\n",
        "print(t.shape)"
      ],
      "metadata": {
        "colab": {
          "base_uri": "https://localhost:8080/"
        },
        "id": "-Ol2_F-FEz3A",
        "outputId": "8ff14382-6fbe-4cd1-9cd3-ca122b92df7e"
      },
      "execution_count": 21,
      "outputs": [
        {
          "output_type": "stream",
          "name": "stdout",
          "text": [
            "tensor([[[ 1.,  3.,  5.],\n",
            "         [ 7.,  9., 11.]],\n",
            "\n",
            "        [[ 0.,  2.,  4.],\n",
            "         [ 6.,  8., 10.]]])\n",
            "torch.Size([2, 2, 3])\n"
          ]
        }
      ]
    },
    {
      "cell_type": "code",
      "source": [
        "# view method : The shape can be changed while maintaining the elements of the tensor.\n",
        "print(t.view(2,3,2),'\\n')\n",
        "# An argument with a value of -1 can be used only once within the view method, and a dimension with -1 entered is interpreted as PyTorch automatically adjusting the size.\n",
        "print(t.view(-1,4))"
      ],
      "metadata": {
        "colab": {
          "base_uri": "https://localhost:8080/"
        },
        "id": "moRNhDF0Gzq3",
        "outputId": "6b50201d-deaf-479e-a263-f814ddb9600f"
      },
      "execution_count": 24,
      "outputs": [
        {
          "output_type": "stream",
          "name": "stdout",
          "text": [
            "tensor([[[ 1.,  3.],\n",
            "         [ 5.,  7.],\n",
            "         [ 9., 11.]],\n",
            "\n",
            "        [[ 0.,  2.],\n",
            "         [ 4.,  6.],\n",
            "         [ 8., 10.]]]) \n",
            "\n",
            "tensor([[ 1.,  3.,  5.,  7.],\n",
            "        [ 9., 11.,  0.,  2.],\n",
            "        [ 4.,  6.,  8., 10.]])\n"
          ]
        }
      ]
    }
  ]
}