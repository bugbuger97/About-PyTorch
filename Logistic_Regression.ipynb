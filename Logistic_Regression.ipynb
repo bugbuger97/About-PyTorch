{
  "nbformat": 4,
  "nbformat_minor": 0,
  "metadata": {
    "colab": {
      "provenance": []
    },
    "kernelspec": {
      "name": "python3",
      "display_name": "Python 3"
    },
    "language_info": {
      "name": "python"
    }
  },
  "cells": [
    {
      "cell_type": "code",
      "source": [
        "import torch\n",
        "import torch.nn as nn\n",
        "import torch.nn.functional as F\n",
        "import torch.optim as optim\n",
        "\n",
        "# 파이썬 코드를 재실행해도 같은 결과가 나오도록 random seed를 설정함.\n",
        "torch.manual_seed(1)"
      ],
      "metadata": {
        "colab": {
          "base_uri": "https://localhost:8080/"
        },
        "id": "H03IGif5N0hC",
        "outputId": "fe163b4a-ecd9-434a-b7bb-d34b4817f35b"
      },
      "execution_count": 1,
      "outputs": [
        {
          "output_type": "execute_result",
          "data": {
            "text/plain": [
              "<torch._C.Generator at 0x7faf5c2b8c10>"
            ]
          },
          "metadata": {},
          "execution_count": 1
        }
      ]
    },
    {
      "cell_type": "code",
      "source": [
        "# Model code\n",
        "\n",
        "class LogisticRegression(nn.Module):\n",
        "  def __init__(self):\n",
        "    super().__init__()\n",
        "    self.linear = nn.Linear(2,1)\n",
        "    self.sigmoid = nn.Sigmoid()\n",
        "\n",
        "  def forward(self, x):\n",
        "    return self.sigmoid(self.linear(x))"
      ],
      "metadata": {
        "id": "IvyeDUyoPXyJ"
      },
      "execution_count": 2,
      "outputs": []
    },
    {
      "cell_type": "code",
      "source": [
        "# Training\n",
        "\n",
        "x_train = torch.FloatTensor([[1,2], [2,4], [3,2], [4,3], [5,5], [6,1]])\n",
        "y_train = torch.FloatTensor([[0],[0],[0],[1],[1],[1]])\n",
        "\n",
        "model = LogisticRegression()\n",
        "\n",
        "optimizer = torch.optim.SGD(model.parameters(), lr=1e-1)\n",
        "nb_epochs = 1000\n",
        "\n",
        "for epoch in range(nb_epochs + 1):\n",
        "  prediction = model(x_train)\n",
        "  cost = F.binary_cross_entropy(prediction, y_train)\n",
        "\n",
        "  optimizer.zero_grad()\n",
        "  cost.backward()\n",
        "  optimizer.step()\n",
        "\n",
        "  if epoch % 100 == 0:\n",
        "    predicted_class = prediction >= torch.FloatTensor([0.5])\n",
        "    correct_prediction = predicted_class.float() == y_train\n",
        "    accuracy = correct_prediction.sum().item() / len(correct_prediction)\n",
        "    print(f'Epoch {epoch:4d} / {nb_epochs} Cost: {cost.item():.6f} Accuracy: {accuracy*100}%')"
      ],
      "metadata": {
        "colab": {
          "base_uri": "https://localhost:8080/"
        },
        "id": "29YHjQElQNcz",
        "outputId": "23104bf7-5ed6-4dee-a4f0-72f0bb59c0cf"
      },
      "execution_count": 3,
      "outputs": [
        {
          "output_type": "stream",
          "name": "stdout",
          "text": [
            "Epoch    0 / 1000 Cost: 0.519890 Accuracy: 83.33333333333334%\n",
            "Epoch  100 / 1000 Cost: 0.371329 Accuracy: 83.33333333333334%\n",
            "Epoch  200 / 1000 Cost: 0.319130 Accuracy: 83.33333333333334%\n",
            "Epoch  300 / 1000 Cost: 0.282595 Accuracy: 83.33333333333334%\n",
            "Epoch  400 / 1000 Cost: 0.254780 Accuracy: 83.33333333333334%\n",
            "Epoch  500 / 1000 Cost: 0.232837 Accuracy: 83.33333333333334%\n",
            "Epoch  600 / 1000 Cost: 0.215069 Accuracy: 83.33333333333334%\n",
            "Epoch  700 / 1000 Cost: 0.200370 Accuracy: 100.0%\n",
            "Epoch  800 / 1000 Cost: 0.187984 Accuracy: 100.0%\n",
            "Epoch  900 / 1000 Cost: 0.177385 Accuracy: 100.0%\n",
            "Epoch 1000 / 1000 Cost: 0.168194 Accuracy: 100.0%\n"
          ]
        }
      ]
    },
    {
      "cell_type": "code",
      "source": [
        "# Inference\n",
        "test_data = torch.FloatTensor([[5,5], [1,4]])\n",
        "prediction = model(test_data)\n",
        "print(prediction)"
      ],
      "metadata": {
        "colab": {
          "base_uri": "https://localhost:8080/"
        },
        "id": "eP8WWX3DQu5g",
        "outputId": "805fa298-7e91-48de-ee9f-7e24100b44f9"
      },
      "execution_count": 4,
      "outputs": [
        {
          "output_type": "stream",
          "name": "stdout",
          "text": [
            "tensor([[0.9125],\n",
            "        [0.0129]], grad_fn=<SigmoidBackward0>)\n"
          ]
        }
      ]
    }
  ]
}