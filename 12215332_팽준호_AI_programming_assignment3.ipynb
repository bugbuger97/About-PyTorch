{
  "nbformat": 4,
  "nbformat_minor": 0,
  "metadata": {
    "colab": {
      "provenance": []
    },
    "kernelspec": {
      "name": "python3",
      "display_name": "Python 3"
    },
    "language_info": {
      "name": "python"
    }
  },
  "cells": [
    {
      "cell_type": "markdown",
      "source": [
        "**과제**\n",
        "\n",
        "아래 그림과 같은 학습 데이터에 대해서 선형회귀를 수행하시오.\n",
        "(독립 변수로는 공부한 시간을 사용하고, 예측하고자 하는 결과값으로는 점수를 사용할 것. ex) 6 -> 53, 7->60)\n",
        "\n",
        "그리고 학습된 모델을 이용하여 8.2시간 공부한 Brady라는 학생의 점수를 예측해보시오.\n",
        "\n",
        "![image.png](data:image/png;base64,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)"
      ],
      "metadata": {
        "id": "0x6tGqyOcqNP"
      }
    },
    {
      "cell_type": "code",
      "source": [
        "import torch\n",
        "import torch.nn as nn\n",
        "import torch.nn.functional as F\n",
        "import torch.optim as optim\n",
        "import matplotlib.pyplot as plt\n",
        "torch.manual_seed(1)"
      ],
      "metadata": {
        "colab": {
          "base_uri": "https://localhost:8080/"
        },
        "id": "MOmMkRnOK6Qw",
        "outputId": "6f32b7aa-00d4-45b9-9ab7-9e8697ed6a51"
      },
      "execution_count": null,
      "outputs": [
        {
          "output_type": "execute_result",
          "data": {
            "text/plain": [
              "<torch._C.Generator at 0x7bb524160c70>"
            ]
          },
          "metadata": {},
          "execution_count": 1
        }
      ]
    },
    {
      "cell_type": "code",
      "source": [
        "# 데이터 셋 생성\n",
        "x_train = torch.FloatTensor([[6],[7],[6.5],[8],[6.6],[8.1],[6.8],[6.9],[7.3],[6.9]])\n",
        "y_train = torch.FloatTensor([[53], [60], [56], [79], [58], [85], [70], [56], [69], [76]])"
      ],
      "metadata": {
        "id": "GSM4FxDeqIK_"
      },
      "execution_count": null,
      "outputs": []
    },
    {
      "cell_type": "code",
      "source": [
        "print(x_train.shape)\n",
        "print(y_train.shape)"
      ],
      "metadata": {
        "colab": {
          "base_uri": "https://localhost:8080/"
        },
        "id": "l1LPZZmJrQ-v",
        "outputId": "a03e97b2-939c-4e4e-bc49-c7a97b92523d"
      },
      "execution_count": null,
      "outputs": [
        {
          "output_type": "stream",
          "name": "stdout",
          "text": [
            "torch.Size([10, 1])\n",
            "torch.Size([10, 1])\n"
          ]
        }
      ]
    },
    {
      "cell_type": "code",
      "source": [
        "# 가중치 및 편향 생성\n",
        "# W, b 초기화\n",
        "W = torch.zeros(1, requires_grad=True)\n",
        "b = torch.zeros(1, requires_grad=True)\n",
        "print(W)\n",
        "print(b)"
      ],
      "metadata": {
        "colab": {
          "base_uri": "https://localhost:8080/"
        },
        "id": "rHO3lQKjrZD7",
        "outputId": "47d841a6-8cac-44c3-c024-40482f1bc545"
      },
      "execution_count": null,
      "outputs": [
        {
          "output_type": "stream",
          "name": "stdout",
          "text": [
            "tensor([0.], requires_grad=True)\n",
            "tensor([0.], requires_grad=True)\n"
          ]
        }
      ]
    },
    {
      "cell_type": "code",
      "source": [
        "# 경사하강법 구현\n",
        "optimizer = optim.SGD([W,b], lr=0.01976) # 최대한 빠르게 학습하도록 learning rate 조절"
      ],
      "metadata": {
        "id": "wk2TMkPPskhg"
      },
      "execution_count": null,
      "outputs": []
    },
    {
      "cell_type": "code",
      "source": [
        "# 경사하강법 반복 횟수\n",
        "nb_epochs = 5000"
      ],
      "metadata": {
        "id": "88rnOmL0s8Zf"
      },
      "execution_count": null,
      "outputs": []
    },
    {
      "cell_type": "code",
      "source": [
        "for epoch in range(nb_epochs + 1):\n",
        "  # 가설 및 손실 함수 정의\n",
        "  hypo = x_train * W + b\n",
        "  cost = torch.mean((hypo-y_train)**2)\n",
        "  # 경사하강법\n",
        "  optimizer.zero_grad()\n",
        "  cost.backward()\n",
        "  optimizer.step()\n",
        "  # 100 epochs마다 로그 출력\n",
        "  if epoch % 100 == 0:\n",
        "    print(f'Epoch {epoch}/{nb_epochs} W: {W.item():.3f}, b: {b.item():.3f}, Cost: {cost.item():.6f}')"
      ],
      "metadata": {
        "colab": {
          "base_uri": "https://localhost:8080/"
        },
        "id": "QKc8G9pVtANs",
        "outputId": "a0f6f010-3d54-451c-ca38-c309cc752dc9"
      },
      "execution_count": null,
      "outputs": [
        {
          "output_type": "stream",
          "name": "stdout",
          "text": [
            "Epoch 0/5000 W: 18.558, b: 2.616, Cost: 4494.799805\n",
            "Epoch 100/5000 W: 15.741, b: 1.099, Cost: 2094.874268\n",
            "Epoch 200/5000 W: 13.874, b: -0.252, Cost: 987.923950\n",
            "Epoch 300/5000 W: 12.650, b: -1.480, Cost: 477.206726\n",
            "Epoch 400/5000 W: 11.861, b: -2.615, Cost: 241.439896\n",
            "Epoch 500/5000 W: 11.367, b: -3.679, Cost: 132.471756\n",
            "Epoch 600/5000 W: 11.072, b: -4.687, Cost: 81.988419\n",
            "Epoch 700/5000 W: 10.911, b: -5.647, Cost: 58.487114\n",
            "Epoch 800/5000 W: 10.839, b: -6.567, Cost: 47.440155\n",
            "Epoch 900/5000 W: 10.828, b: -7.452, Cost: 42.148094\n",
            "Epoch 1000/5000 W: 10.855, b: -8.306, Cost: 39.521164\n",
            "Epoch 1100/5000 W: 10.909, b: -9.131, Cost: 38.133926\n",
            "Epoch 1200/5000 W: 10.979, b: -9.930, Cost: 37.328438\n",
            "Epoch 1300/5000 W: 11.060, b: -10.704, Cost: 36.800652\n",
            "Epoch 1400/5000 W: 11.146, b: -11.454, Cost: 36.409828\n",
            "Epoch 1500/5000 W: 11.236, b: -12.182, Cost: 36.090683\n",
            "Epoch 1600/5000 W: 11.326, b: -12.888, Cost: 35.812511\n",
            "Epoch 1700/5000 W: 11.417, b: -13.573, Cost: 35.560741\n",
            "Epoch 1800/5000 W: 11.507, b: -14.237, Cost: 35.328232\n",
            "Epoch 1900/5000 W: 11.596, b: -14.883, Cost: 35.111271\n",
            "Epoch 2000/5000 W: 11.682, b: -15.509, Cost: 34.907745\n",
            "Epoch 2100/5000 W: 11.767, b: -16.117, Cost: 34.716362\n",
            "Epoch 2200/5000 W: 11.850, b: -16.708, Cost: 34.536171\n",
            "Epoch 2300/5000 W: 11.931, b: -17.281, Cost: 34.366394\n",
            "Epoch 2400/5000 W: 12.009, b: -17.838, Cost: 34.206398\n",
            "Epoch 2500/5000 W: 12.085, b: -18.378, Cost: 34.055561\n",
            "Epoch 2600/5000 W: 12.159, b: -18.903, Cost: 33.913387\n",
            "Epoch 2700/5000 W: 12.231, b: -19.412, Cost: 33.779369\n",
            "Epoch 2800/5000 W: 12.301, b: -19.907, Cost: 33.653038\n",
            "Epoch 2900/5000 W: 12.369, b: -20.387, Cost: 33.533924\n",
            "Epoch 3000/5000 W: 12.435, b: -20.853, Cost: 33.421646\n",
            "Epoch 3100/5000 W: 12.499, b: -21.306, Cost: 33.315788\n",
            "Epoch 3200/5000 W: 12.561, b: -21.746, Cost: 33.216011\n",
            "Epoch 3300/5000 W: 12.622, b: -22.172, Cost: 33.121941\n",
            "Epoch 3400/5000 W: 12.680, b: -22.587, Cost: 33.033257\n",
            "Epoch 3500/5000 W: 12.737, b: -22.989, Cost: 32.949661\n",
            "Epoch 3600/5000 W: 12.793, b: -23.380, Cost: 32.870838\n",
            "Epoch 3700/5000 W: 12.846, b: -23.759, Cost: 32.796547\n",
            "Epoch 3800/5000 W: 12.899, b: -24.127, Cost: 32.726513\n",
            "Epoch 3900/5000 W: 12.949, b: -24.485, Cost: 32.660473\n",
            "Epoch 4000/5000 W: 12.998, b: -24.832, Cost: 32.598217\n",
            "Epoch 4100/5000 W: 13.046, b: -25.169, Cost: 32.539539\n",
            "Epoch 4200/5000 W: 13.092, b: -25.496, Cost: 32.484222\n",
            "Epoch 4300/5000 W: 13.137, b: -25.814, Cost: 32.432068\n",
            "Epoch 4400/5000 W: 13.181, b: -26.123, Cost: 32.382915\n",
            "Epoch 4500/5000 W: 13.224, b: -26.422, Cost: 32.336559\n",
            "Epoch 4600/5000 W: 13.265, b: -26.713, Cost: 32.292870\n",
            "Epoch 4700/5000 W: 13.305, b: -26.995, Cost: 32.251678\n",
            "Epoch 4800/5000 W: 13.343, b: -27.270, Cost: 32.212852\n",
            "Epoch 4900/5000 W: 13.381, b: -27.536, Cost: 32.176231\n",
            "Epoch 5000/5000 W: 13.418, b: -27.794, Cost: 32.141747\n"
          ]
        }
      ]
    },
    {
      "cell_type": "code",
      "source": [
        "def liner_regression(x):\n",
        "    return x * W + b\n",
        "\n",
        "plt.plot(x_train.detach().numpy(), y_train.detach().numpy(),'or', x_train.detach().numpy(), liner_regression(x_train).detach().numpy())\n",
        "plt.show()\n"
      ],
      "metadata": {
        "colab": {
          "base_uri": "https://localhost:8080/",
          "height": 430
        },
        "id": "txWwv58Kt984",
        "outputId": "a663f90b-40eb-45ae-ab85-1393607fb810"
      },
      "execution_count": null,
      "outputs": [
        {
          "output_type": "display_data",
          "data": {
            "text/plain": [
              "<Figure size 640x480 with 1 Axes>"
            ],
            "image/png": "[encoded data removed]"
          },
          "metadata": {}
        }
      ]
    },
    {
      "cell_type": "code",
      "source": [
        "# 선형 회귀 추론 코드 구현\n",
        "\n",
        "test_data = torch.FloatTensor([[8.2]])\n",
        "prediction = test_data * W + b\n",
        "print(prediction)"
      ],
      "metadata": {
        "colab": {
          "base_uri": "https://localhost:8080/"
        },
        "id": "AMZHxt1-vfUv",
        "outputId": "83007fa0-c141-460e-d835-ab39dc357e19"
      },
      "execution_count": null,
      "outputs": [
        {
          "output_type": "stream",
          "name": "stdout",
          "text": [
            "tensor([[82.2317]], grad_fn=<AddBackward0>)\n"
          ]
        }
      ]
    },
    {
      "cell_type": "markdown",
      "source": [
        "# 정답\n",
        "- learning rate = 0.01976\n",
        "- 경사하강법 반복횟수 = 5000\n",
        "- 학습된 모델에 x = 8.2를 입력하니 예측값이 82.2317이 나왔습니다.\n",
        "- 즉, 학습된 모델을 이용하여 8.2시간 공부한 Brady라는 학생의 점수는 약 82점으로 예측할 수 있습니다.\n"
      ],
      "metadata": {
        "id": "t8DBhjPHQ4rY"
      }
    }
  ]
}