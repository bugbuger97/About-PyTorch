{
  "nbformat": 4,
  "nbformat_minor": 0,
  "metadata": {
    "colab": {
      "provenance": []
    },
    "kernelspec": {
      "name": "python3",
      "display_name": "Python 3"
    },
    "language_info": {
      "name": "python"
    }
  },
  "cells": [
    {
      "cell_type": "markdown",
      "source": [
        "**과제1**\n",
        "\n",
        "텐서를 정규화(normalize)한다는 것은 일반적으로 텐서 내 요소들의 상대적인 대소는 유지하면서 값 범위를 [0, 1]로 만들어서 원본 텐서가 어떤 범위의 값을 가졌던 정규화 후 우리가 의도한 범위를 갖도록 변경하는 것을 의미한다.\n",
        "\n",
        "아래와 같이 텐서를 입력받은 후 정규화해서 반환하는 함수 normalize를 구현하시오. (단, 수업에서 배운 기능들만 활용할 것)\n",
        "\n",
        "[Hint] 텐서 내 모든 요소들에서 최소값을 빼면 새로운 최소값은 0이 됨. 그리고 그 상태에서 모든 요소를 최대값으로 나누면 새로운 최대값이 1이 되며 모든 값들은 [0, 1] 범위 내에 속하게 됨\n",
        "\n",
        "![image.png](data:image/png;base64,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)"
      ],
      "metadata": {
        "id": "LY4Cd_y7muJr"
      }
    },
    {
      "cell_type": "code",
      "source": [
        "import torch"
      ],
      "metadata": {
        "id": "4OpLbqRU79Qp"
      },
      "execution_count": 1,
      "outputs": []
    },
    {
      "cell_type": "code",
      "source": [
        "def normalize(t):\n",
        "  result = (t-t.min()) / (t.max()-t.min())\n",
        "  return result\n",
        "\n",
        "fl = torch.FloatTensor([[-3.2, 1.3, 123.5], [0.2, -5.2, 16.9]])\n",
        "print (fl)\n",
        "print (normalize(fl))"
      ],
      "metadata": {
        "id": "KbbJLEB3mV4l",
        "colab": {
          "base_uri": "https://localhost:8080/"
        },
        "outputId": "d5855906-e727-46a7-c05e-4bb4fb44fcb5"
      },
      "execution_count": 3,
      "outputs": [
        {
          "output_type": "stream",
          "name": "stdout",
          "text": [
            "tensor([[ -3.2000,   1.3000, 123.5000],\n",
            "        [  0.2000,  -5.2000,  16.9000]])\n",
            "tensor([[0.0155, 0.0505, 1.0000],\n",
            "        [0.0420, 0.0000, 0.1717]])\n"
          ]
        }
      ]
    },
    {
      "cell_type": "markdown",
      "source": [
        "**과제2**\n",
        "\n",
        "Thresholding이란 특정 값(threshold, 임계값으로 주로 번역됨)을 기준으로 해서 어떤 판단을 하거나, 값을 남기거나 제거하는 등의 데이터 처리 방식을 의미한다. 텐서, threshold, value 이렇게 총 세 개의 매개변수를 입력받아서 아래 수식과 같은 연산을 수행하는 함수 thresholding을 구현하시오. (단, 수업에서 배운 기능들만 활용할 것. 어떤 shape의 텐서가 입력되더라도 처리할 수 있어야 함)\n",
        "\n",
        "![image.png](data:image/png;base64,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)\n",
        "\n",
        "![image.png](data:image/png;base64,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)"
      ],
      "metadata": {
        "id": "eX2pxRIXo9K6"
      }
    },
    {
      "cell_type": "code",
      "source": [
        "def thresholding(t, threshold, value):\n",
        "  #result = torch.where(t < threshold, torch.tensor(value, dtype=t.dtype), t)\n",
        "  result = t\n",
        "  result[result <= threshold] = value\n",
        "  return result\n",
        "\n",
        "fl = torch.FloatTensor([[-3.2, 1.3, 123.5], [0.2, -5.2, 16.9]])\n",
        "print (thresholding(fl, -3, -100))\n",
        "print (thresholding(fl, 1.3, 0))"
      ],
      "metadata": {
        "id": "ufqVqRZuok5u",
        "colab": {
          "base_uri": "https://localhost:8080/"
        },
        "outputId": "abdf978b-b9fa-4152-fa89-15111268bb0a"
      },
      "execution_count": 95,
      "outputs": [
        {
          "output_type": "stream",
          "name": "stdout",
          "text": [
            "tensor([[-100.0000,    1.3000,  123.5000],\n",
            "        [   0.2000, -100.0000,   16.9000]])\n",
            "tensor([[  0.0000,   0.0000, 123.5000],\n",
            "        [  0.0000,   0.0000,  16.9000]])\n"
          ]
        }
      ]
    }
  ]
}