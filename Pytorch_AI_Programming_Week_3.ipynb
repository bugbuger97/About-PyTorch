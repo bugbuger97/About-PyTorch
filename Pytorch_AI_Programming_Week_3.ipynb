{
  "nbformat": 4,
  "nbformat_minor": 0,
  "metadata": {
    "colab": {
      "provenance": []
    },
    "kernelspec": {
      "name": "python3",
      "display_name": "Python 3"
    },
    "language_info": {
      "name": "python"
    }
  },
  "cells": [
    {
      "cell_type": "markdown",
      "source": [
        "#List Comprehension\n",
        "- 리스트 내에 for문을 포함하는 형식의 문법\n",
        "- [표현식 for 항목 in 반복가능객체 if 조건문]"
      ],
      "metadata": {
        "id": "Ukdd428Bk4Qy"
      }
    },
    {
      "cell_type": "code",
      "source": [
        "List = [i for i in range(10) if i % 2 == 0]\n",
        "print(List)"
      ],
      "metadata": {
        "colab": {
          "base_uri": "https://localhost:8080/"
        },
        "id": "jPPxp3wbzeyf",
        "outputId": "142977e5-915f-4530-c0a0-7355c3347188"
      },
      "execution_count": null,
      "outputs": [
        {
          "output_type": "stream",
          "name": "stdout",
          "text": [
            "[0, 2, 4, 6, 8]\n"
          ]
        }
      ]
    },
    {
      "cell_type": "markdown",
      "source": [
        "#Overriding\n",
        "- 부모 클래스에 있는 메서드를 다시 정의하는 것.\n",
        "\n",
        "#Overloading\n",
        "- 같은 이름이지만 매개변수 타입이나 갯수가 다른 함수들을 정의하는 것.\n",
        "\n",
        "#Encapsulation\n",
        "- 클래스 외부에서는 허용된 메서드 및 데이터에만 접근할 수 있도록 Attribute 및 method에 대해 접근 권한을 부여하는 것을 의미함.\n",
        "\n",
        "#if __name__ == \"__main__\":\n",
        "- 모듈 파일 내에서 테스트 등을 목적으로 코드를 작성하고, 해당 모듈을 불러올 때는 실행되지 않도록 if __name__ == \"__main__\": 문구를 활용할 수 있음.\n",
        "\n",
        "- 파이썬에서는 현재 포함된 모든 모듈들의 __name__속성을 관리하는데, 가장 처음 실행된 모듈은 __main__이라는 값을 갖고, 나머지는 모듈명에 해당하는 __name__을 갖는다.\n",
        "\n",
        "- 즉, .py를 직접 실행할 때만 print 구문들이 작동하고 import할 때는 작동하지 않음.\n",
        "\n",
        "#패키지\n",
        "- 패키지는 파이썬 모듈들이 계층적으로 모인 모듈들의 묶음을 의미함.\n",
        "\n",
        "- 파일 시스템 상의 경로를 표현할 때 / 연산자를 사용해 계층 관계를 표현하는 것과 유사하게 파이썬 패키지는 . 연산자로서 계층적 구조를 표현함\n",
        "\n",
        "- 파이썬 라이브러리는 파이썬을 설치할 때 같이 설치되는 모듈들의 집합으로써 다양한 상황에 쓰일 수 있는 유용한 모듈들이 다수 포함되어 있음.\n",
        "\n",
        "- ex) import game.sound.echo\n",
        "      game.sound.echo_test()\n"
      ],
      "metadata": {
        "id": "0OC53aOiCPk3"
      }
    },
    {
      "cell_type": "markdown",
      "source": [
        "#PyTorch란?\n",
        "- 딥러닝 프레임워크의 일종\n",
        "- 목적에 필요한 것을 고민할 필요 없이 이용할 수 있도록 일괄로 가져다 쓰도록 만들어 놓은 '구조화된 틀'이다.\n",
        "- GPU에서 텐서를 조작하고 신경망을 구축하여 딥러닝 관련 작업을 수행하기에 용이함.\n",
        "- 딥러닝 관련 연산에서는 행렬 연산(행렬곱)이 많이 요구되는데, 행렬 연산은 병렬화가 가능하므로 코어 수가 많을수록 유리함.\n",
        "\n",
        "#PyTorch 아키텍처\n",
        "- torch: GPU를 지원하는 텐서 패키지\n",
        "- torch.autograd: 자동 미분 패키지.\n",
        "- torch.nn: 신경망 구축 및 훈련 패키지. 미리 구현된 클래스들을 이용해 원하는 모델\n",
        "구현 가능\n",
        "- torch.multiprocessing: 멀티프로세싱 관련 패키지. 여러 개의 GPU를 사용해서 연산해야 하는 경우 주로 사용하게 됨.\n",
        "- torch.utils: 데이터 관련 클래스 및 기타 유틸리티를 제공하는 패키지\n"
      ],
      "metadata": {
        "id": "rHrqn08FLNbR"
      }
    },
    {
      "cell_type": "code",
      "source": [
        "import torch"
      ],
      "metadata": {
        "id": "XMNrN9kC0Hzx"
      },
      "execution_count": 2,
      "outputs": []
    },
    {
      "cell_type": "code",
      "source": [
        "t = torch.tensor([0,1,2,3,4,5,6]) # 텐서 생성\n",
        "print(t) # 텐서 출력"
      ],
      "metadata": {
        "colab": {
          "base_uri": "https://localhost:8080/"
        },
        "id": "LoIaqNhHOjUM",
        "outputId": "7ccfa2c1-dadc-4f50-ca6f-75871501ecda"
      },
      "execution_count": 2,
      "outputs": [
        {
          "output_type": "stream",
          "name": "stdout",
          "text": [
            "tensor([0, 1, 2, 3, 4, 5, 6])\n"
          ]
        }
      ]
    },
    {
      "cell_type": "code",
      "source": [
        "print(t.dim()) # rank(차원)"
      ],
      "metadata": {
        "colab": {
          "base_uri": "https://localhost:8080/"
        },
        "id": "64tohU_aOxMn",
        "outputId": "112e2778-e50e-41ce-cfd5-955894bf7164"
      },
      "execution_count": 3,
      "outputs": [
        {
          "output_type": "stream",
          "name": "stdout",
          "text": [
            "1\n"
          ]
        }
      ]
    },
    {
      "cell_type": "code",
      "source": [
        "print(t.shape) # 텐서 shape"
      ],
      "metadata": {
        "colab": {
          "base_uri": "https://localhost:8080/"
        },
        "id": "hTHUjoHRO4LG",
        "outputId": "589d9c58-db21-4c43-b320-437b5d012f47"
      },
      "execution_count": 4,
      "outputs": [
        {
          "output_type": "stream",
          "name": "stdout",
          "text": [
            "torch.Size([7])\n"
          ]
        }
      ]
    },
    {
      "cell_type": "code",
      "source": [
        "print(t.size()) # 텐서 shape"
      ],
      "metadata": {
        "colab": {
          "base_uri": "https://localhost:8080/"
        },
        "id": "ZZJdUzdiO-8r",
        "outputId": "8b91a1f6-4765-467f-a9eb-cd42adaa9aed"
      },
      "execution_count": 5,
      "outputs": [
        {
          "output_type": "stream",
          "name": "stdout",
          "text": [
            "torch.Size([7])\n"
          ]
        }
      ]
    },
    {
      "cell_type": "code",
      "source": [
        "print(t.dtype) # data type"
      ],
      "metadata": {
        "colab": {
          "base_uri": "https://localhost:8080/"
        },
        "id": "b4TgQgYMPEtN",
        "outputId": "28941a32-0f37-4e76-c84e-d0ad8f55ce79"
      },
      "execution_count": 6,
      "outputs": [
        {
          "output_type": "stream",
          "name": "stdout",
          "text": [
            "torch.int64\n"
          ]
        }
      ]
    },
    {
      "cell_type": "markdown",
      "source": [
        "#PyTorch에서 텐서 다루기\n",
        "- torch.FloatTensor: 32비트 부동 소수점 실수형\n",
        "- torch.DoubleTensor: 64비트 부동 소수점 실수형\n",
        "- torch.LongTensor: 64비트 정수형\n",
        "- .dim(): 해당 텐서가 몇 차원인지를 반환\n",
        "- .shape: 해당 텐서의 모양에 관한 attribute\n",
        "- .size(): shape attribute 반환\n",
        "- .dtype: 해당 텐서의 자료형에 관한 attribute"
      ],
      "metadata": {
        "id": "0So8eY-GPNgw"
      }
    },
    {
      "cell_type": "code",
      "source": [
        "# 1D Tensor 다루기\n",
        "t = torch.FloatTensor([0,1,2,3,4,5,6])\n",
        "print(t) # 텐서 출력"
      ],
      "metadata": {
        "colab": {
          "base_uri": "https://localhost:8080/"
        },
        "id": "xPyaU233PJI_",
        "outputId": "8e69bc5f-564c-4d36-888f-7edccc6234be"
      },
      "execution_count": 7,
      "outputs": [
        {
          "output_type": "stream",
          "name": "stdout",
          "text": [
            "tensor([0., 1., 2., 3., 4., 5., 6.])\n"
          ]
        }
      ]
    },
    {
      "cell_type": "code",
      "source": [
        "print(t.shape) # 텐서 shape"
      ],
      "metadata": {
        "colab": {
          "base_uri": "https://localhost:8080/"
        },
        "id": "DhXnWApbRsjQ",
        "outputId": "db59c773-5798-4855-ce4f-0d0025bd89bf"
      },
      "execution_count": 8,
      "outputs": [
        {
          "output_type": "stream",
          "name": "stdout",
          "text": [
            "torch.Size([7])\n"
          ]
        }
      ]
    },
    {
      "cell_type": "code",
      "source": [
        "print(t.dtype) # data type"
      ],
      "metadata": {
        "colab": {
          "base_uri": "https://localhost:8080/"
        },
        "id": "ArYzQJ8fRy3A",
        "outputId": "2ea6ff51-5e6b-4768-f141-b7de8c49d83e"
      },
      "execution_count": 9,
      "outputs": [
        {
          "output_type": "stream",
          "name": "stdout",
          "text": [
            "torch.float32\n"
          ]
        }
      ]
    },
    {
      "cell_type": "code",
      "source": [
        "print(t[0], t[1], t[-1]) # 인덱스로 접근"
      ],
      "metadata": {
        "colab": {
          "base_uri": "https://localhost:8080/"
        },
        "id": "lqRoELn7R4j6",
        "outputId": "1da8663c-9cd0-4075-8959-42d57b8ead86"
      },
      "execution_count": 10,
      "outputs": [
        {
          "output_type": "stream",
          "name": "stdout",
          "text": [
            "tensor(0.) tensor(1.) tensor(6.)\n"
          ]
        }
      ]
    },
    {
      "cell_type": "code",
      "source": [
        "print(t[2:5], t[4:-1]) # 슬라이싱"
      ],
      "metadata": {
        "colab": {
          "base_uri": "https://localhost:8080/"
        },
        "id": "xd-5AN_CSa9L",
        "outputId": "a4b6861a-bb91-47e9-b2b8-8a82b168547e"
      },
      "execution_count": 11,
      "outputs": [
        {
          "output_type": "stream",
          "name": "stdout",
          "text": [
            "tensor([2., 3., 4.]) tensor([4., 5.])\n"
          ]
        }
      ]
    },
    {
      "cell_type": "code",
      "source": [
        "print(t[:2],t[3:]) # 슬라이싱"
      ],
      "metadata": {
        "colab": {
          "base_uri": "https://localhost:8080/"
        },
        "id": "Oqafy-F3WCzK",
        "outputId": "6964c152-942a-4f1e-c8a2-e8ca8ee6d64b"
      },
      "execution_count": 12,
      "outputs": [
        {
          "output_type": "stream",
          "name": "stdout",
          "text": [
            "tensor([0., 1.]) tensor([3., 4., 5., 6.])\n"
          ]
        }
      ]
    },
    {
      "cell_type": "code",
      "source": [
        "# 2D 텐서 다루기\n",
        "t = torch.FloatTensor([[1.,2.,3.],\n",
        "                       [4.,5.,6.],\n",
        "                       [7.,8.,9.],\n",
        "                       [10.,11.,12.]])\n",
        "print(t) # 텐서 출력"
      ],
      "metadata": {
        "colab": {
          "base_uri": "https://localhost:8080/"
        },
        "id": "hE8Dam3kfmKQ",
        "outputId": "1979c0f4-bd3f-4b26-b6bc-cc4909f22f80"
      },
      "execution_count": 15,
      "outputs": [
        {
          "output_type": "stream",
          "name": "stdout",
          "text": [
            "tensor([[ 1.,  2.,  3.],\n",
            "        [ 4.,  5.,  6.],\n",
            "        [ 7.,  8.,  9.],\n",
            "        [10., 11., 12.]])\n"
          ]
        }
      ]
    },
    {
      "cell_type": "code",
      "source": [
        "print(t.shape) # 텐서 shape 4행 3열"
      ],
      "metadata": {
        "colab": {
          "base_uri": "https://localhost:8080/"
        },
        "id": "PxvISMULt5vr",
        "outputId": "2a39b742-619b-4514-86ad-bc413bf897b7"
      },
      "execution_count": 16,
      "outputs": [
        {
          "output_type": "stream",
          "name": "stdout",
          "text": [
            "torch.Size([4, 3])\n"
          ]
        }
      ]
    },
    {
      "cell_type": "code",
      "source": [
        "print(t[0,1])"
      ],
      "metadata": {
        "colab": {
          "base_uri": "https://localhost:8080/"
        },
        "id": "fBr-tvOxuHPV",
        "outputId": "a43af2a4-81c5-4c4e-b311-4d9a2e8aa738"
      },
      "execution_count": 17,
      "outputs": [
        {
          "output_type": "stream",
          "name": "stdout",
          "text": [
            "tensor(2.)\n"
          ]
        }
      ]
    },
    {
      "cell_type": "code",
      "source": [
        "print(t[0][1])"
      ],
      "metadata": {
        "colab": {
          "base_uri": "https://localhost:8080/"
        },
        "id": "fQWbqxlEuz5G",
        "outputId": "7040673f-a4b0-44aa-ed75-4839239254ca"
      },
      "execution_count": 18,
      "outputs": [
        {
          "output_type": "stream",
          "name": "stdout",
          "text": [
            "tensor(2.)\n"
          ]
        }
      ]
    },
    {
      "cell_type": "code",
      "source": [
        "print(t[:,1]) # 첫번째 차원을 전체 선택한 상황에서 두번째 차원은 첫째 것만 가져온다."
      ],
      "metadata": {
        "colab": {
          "base_uri": "https://localhost:8080/"
        },
        "id": "Jue1CsXQu2x9",
        "outputId": "04122cc1-f5ca-4c55-ba12-69b7cfb9b2a9"
      },
      "execution_count": 19,
      "outputs": [
        {
          "output_type": "stream",
          "name": "stdout",
          "text": [
            "tensor([ 2.,  5.,  8., 11.])\n"
          ]
        }
      ]
    },
    {
      "cell_type": "code",
      "source": [
        "print(t[:,1].size()) # 2열의 shape(크기) -> 전체 행 중에 2열 슬라이싱"
      ],
      "metadata": {
        "colab": {
          "base_uri": "https://localhost:8080/"
        },
        "id": "pTLPFYuiu5oL",
        "outputId": "b9b1e150-ac39-4e2d-87f7-fcaf5dfca9b1"
      },
      "execution_count": 20,
      "outputs": [
        {
          "output_type": "stream",
          "name": "stdout",
          "text": [
            "torch.Size([4])\n"
          ]
        }
      ]
    },
    {
      "cell_type": "code",
      "source": [
        "print(t[:][1]) # [:,1]과 다르게 모든 구간을 슬라이싱한 상태에서 인덱스 1의 값을 가져옴"
      ],
      "metadata": {
        "colab": {
          "base_uri": "https://localhost:8080/"
        },
        "id": "rCxItk_5v2gJ",
        "outputId": "d07d495a-e962-42ec-c88f-a27d37892b4c"
      },
      "execution_count": 21,
      "outputs": [
        {
          "output_type": "stream",
          "name": "stdout",
          "text": [
            "tensor([4., 5., 6.])\n"
          ]
        }
      ]
    },
    {
      "cell_type": "code",
      "source": [
        "print(t[:, :-1]) # 전체 행 중에서 2열까지 슬라이싱"
      ],
      "metadata": {
        "colab": {
          "base_uri": "https://localhost:8080/"
        },
        "id": "KR4DjzMUwBFo",
        "outputId": "e4560ade-6820-4cf2-cfbb-bb994a708601"
      },
      "execution_count": 22,
      "outputs": [
        {
          "output_type": "stream",
          "name": "stdout",
          "text": [
            "tensor([[ 1.,  2.],\n",
            "        [ 4.,  5.],\n",
            "        [ 7.,  8.],\n",
            "        [10., 11.]])\n"
          ]
        }
      ]
    },
    {
      "cell_type": "markdown",
      "source": [
        "- Broadcasting\n",
        "  - 텐서끼리의 사칙연산은 기본적으로 두 텐서의 shape가 같아야 함.\n",
        "  - 크기가 다른 텐서끼리의 사칙연산을 수행할 수 있도록 텐서 크기를 맞추고 값을 복사해서 채워넣는 기능\n",
        "  - 스칼라의 연산뿐 아니라 벡터끼리의 연산에서도 브로드 캐스팅 가능\n",
        "  - 브로드 캐스팅은 잘 파악하고 이용하면 편리하지만, 의도하지 않은 브로드캐스팅으로 인해 잘못된 연산을 수행하는 경우를 조심해야 함.\n",
        "  - 스칼라 데이터에 대해서만 브로드 캐스팅 기능 활용 추천\n",
        "\n",
        "- Element-wise multiplication\n",
        "  - 텐서 사이에 *를 사용해서 연산을 수행하거나, mul 메서드를 통해 연산을 수행하면, element-wise multiplication이 수행됨."
      ],
      "metadata": {
        "id": "siPzlXd9zLjy"
      }
    },
    {
      "cell_type": "code",
      "source": [
        "# Broadcasting\n",
        "m1 = torch.FloatTensor([[1,2]])\n",
        "m2 = torch.FloatTensor([[3],[4]])\n",
        "'''\n",
        "[[1,2],  +  [[3,3],\n",
        " [1,2]]      [4,4]]\n",
        "'''\n",
        "print(m1)\n",
        "print()\n",
        "print(m2)\n",
        "print()\n",
        "print(m1 + m2)"
      ],
      "metadata": {
        "colab": {
          "base_uri": "https://localhost:8080/"
        },
        "id": "kNCqlCcNy4FW",
        "outputId": "833d54df-0840-4b28-ff98-afc2bc6d61e5"
      },
      "execution_count": 24,
      "outputs": [
        {
          "output_type": "stream",
          "name": "stdout",
          "text": [
            "tensor([[1., 2.]])\n",
            "\n",
            "tensor([[3.],\n",
            "        [4.]])\n",
            "\n",
            "tensor([[4., 5.],\n",
            "        [5., 6.]])\n"
          ]
        }
      ]
    },
    {
      "cell_type": "code",
      "source": [
        "m1 = torch.FloatTensor([[1,2,3]])\n",
        "m2 = torch.FloatTensor([[3],[4],[5]])\n",
        "print(m1+m2)"
      ],
      "metadata": {
        "colab": {
          "base_uri": "https://localhost:8080/"
        },
        "id": "kNH9-sIA2VSN",
        "outputId": "33f709d6-4aa1-445a-827f-40e6c3ebe085"
      },
      "execution_count": 25,
      "outputs": [
        {
          "output_type": "stream",
          "name": "stdout",
          "text": [
            "tensor([[4., 5., 6.],\n",
            "        [5., 6., 7.],\n",
            "        [6., 7., 8.]])\n"
          ]
        }
      ]
    },
    {
      "cell_type": "code",
      "source": [
        "# Element-wise multiplication\n",
        "m1 = torch.FloatTensor([[1,2]\n",
        "                        ,[3,4]])\n",
        "m2 = torch.FloatTensor([[4,5]\n",
        "                        ,[6,7]])\n",
        "print(m1 * m2)\n",
        "print()\n",
        "print(m1.mul(m2))"
      ],
      "metadata": {
        "colab": {
          "base_uri": "https://localhost:8080/"
        },
        "id": "VaT8hvHl3TIF",
        "outputId": "9324ba7e-305b-4b80-d58a-ed1bae20bb6e"
      },
      "execution_count": 26,
      "outputs": [
        {
          "output_type": "stream",
          "name": "stdout",
          "text": [
            "tensor([[ 4., 10.],\n",
            "        [18., 28.]])\n",
            "\n",
            "tensor([[ 4., 10.],\n",
            "        [18., 28.]])\n"
          ]
        }
      ]
    },
    {
      "cell_type": "code",
      "source": [
        "# Matrix multiplication\n",
        "# 행렬곱은 교환법칙이 적용되지 않으며, 크기가 맞지 않으면 에러가 날 수 있음에 유의해야 함.\n",
        "m1 = torch.FloatTensor([[1,2]\n",
        "                        ,[3,4]])\n",
        "m2 = torch.FloatTensor([[1]\n",
        "                        ,[2]])\n",
        "\n",
        "print('Shape of Matrix1:', m1.shape)\n",
        "print('Shape of Matrix2:', m2.shape)\n",
        "print(m1.matmul(m2)) # 2 x 1"
      ],
      "metadata": {
        "colab": {
          "base_uri": "https://localhost:8080/"
        },
        "id": "kn6RFHbM4GO4",
        "outputId": "27e97eb9-de87-457b-8168-62c3b2b44978"
      },
      "execution_count": 27,
      "outputs": [
        {
          "output_type": "stream",
          "name": "stdout",
          "text": [
            "Shape of Matrix1: torch.Size([2, 2])\n",
            "Shape of Matrix2: torch.Size([2, 1])\n",
            "tensor([[ 5.],\n",
            "        [11.]])\n"
          ]
        }
      ]
    },
    {
      "cell_type": "code",
      "source": [
        "# 평균\n",
        "t = torch.FloatTensor([[1,2,3]\n",
        "                       ,[4,5,6]])\n",
        "print(t.mean())"
      ],
      "metadata": {
        "colab": {
          "base_uri": "https://localhost:8080/"
        },
        "id": "weWoReID6PnP",
        "outputId": "f7fdd52f-fc63-495e-94b6-a4779fa6c21c"
      },
      "execution_count": 29,
      "outputs": [
        {
          "output_type": "stream",
          "name": "stdout",
          "text": [
            "tensor(3.5000)\n"
          ]
        }
      ]
    },
    {
      "cell_type": "code",
      "source": [
        "print(t.mean().item()) # .item() 메서드를 통해 값만 뽑아낼 수 있다."
      ],
      "metadata": {
        "colab": {
          "base_uri": "https://localhost:8080/"
        },
        "id": "n_tB3e4pJCaJ",
        "outputId": "06f837e4-69b0-4dad-f9c3-288c021b35c5"
      },
      "execution_count": 31,
      "outputs": [
        {
          "output_type": "stream",
          "name": "stdout",
          "text": [
            "3.5\n"
          ]
        }
      ]
    },
    {
      "cell_type": "code",
      "source": [
        "print(type(t.mean().item()))"
      ],
      "metadata": {
        "colab": {
          "base_uri": "https://localhost:8080/"
        },
        "id": "kH1Sn1C4OkDs",
        "outputId": "10e3ccd0-0bf4-4d69-f73d-c4075b612fad"
      },
      "execution_count": 32,
      "outputs": [
        {
          "output_type": "stream",
          "name": "stdout",
          "text": [
            "<class 'float'>\n"
          ]
        }
      ]
    },
    {
      "cell_type": "code",
      "source": [
        "# 평균\n",
        "# .mean() 메서드에서는 dim을 매개변수에 넣어서 특정 차원에 대한 평균을 구할 수 있다.\n",
        "print(t.mean(dim=0)) # 행끼리 합하여 이것을 평균으로 만듦"
      ],
      "metadata": {
        "colab": {
          "base_uri": "https://localhost:8080/"
        },
        "id": "oHIcg7eSPLrq",
        "outputId": "af3b6895-4578-4675-a90a-eac70e9258e4"
      },
      "execution_count": 33,
      "outputs": [
        {
          "output_type": "stream",
          "name": "stdout",
          "text": [
            "tensor([2.5000, 3.5000, 4.5000])\n"
          ]
        }
      ]
    },
    {
      "cell_type": "code",
      "source": [
        "print(t.mean(dim=1)) # 열끼리 합하여 이것을 평균으로 만듦"
      ],
      "metadata": {
        "colab": {
          "base_uri": "https://localhost:8080/"
        },
        "id": "d1A9WJR4ZuYq",
        "outputId": "91a03c32-f1e7-4488-8e89-d923136cd6d6"
      },
      "execution_count": 34,
      "outputs": [
        {
          "output_type": "stream",
          "name": "stdout",
          "text": [
            "tensor([2., 5.])\n"
          ]
        }
      ]
    },
    {
      "cell_type": "code",
      "source": [
        "print(t.sum()) # 숫자 전체 합"
      ],
      "metadata": {
        "colab": {
          "base_uri": "https://localhost:8080/"
        },
        "id": "fCuj-BEUb6ln",
        "outputId": "b4027d68-1d42-4876-ae86-1d3760d9ad45"
      },
      "execution_count": 35,
      "outputs": [
        {
          "output_type": "stream",
          "name": "stdout",
          "text": [
            "tensor(21.)\n"
          ]
        }
      ]
    },
    {
      "cell_type": "code",
      "source": [
        "print(t.sum(dim=0)) # 행끼리 합"
      ],
      "metadata": {
        "colab": {
          "base_uri": "https://localhost:8080/"
        },
        "id": "CeNmttXZcU4H",
        "outputId": "971d139f-32c3-445e-e7dd-f770f3922afd"
      },
      "execution_count": 36,
      "outputs": [
        {
          "output_type": "stream",
          "name": "stdout",
          "text": [
            "tensor([5., 7., 9.])\n"
          ]
        }
      ]
    },
    {
      "cell_type": "code",
      "source": [
        "print(t.sum(dim=1)) # 열끼리 합"
      ],
      "metadata": {
        "colab": {
          "base_uri": "https://localhost:8080/"
        },
        "id": "T7LKdEKzciZy",
        "outputId": "142226e9-b51d-4aef-ea75-a72335a6fa45"
      },
      "execution_count": 37,
      "outputs": [
        {
          "output_type": "stream",
          "name": "stdout",
          "text": [
            "tensor([ 6., 15.])\n"
          ]
        }
      ]
    },
    {
      "cell_type": "code",
      "source": [
        "print(t.sum(dim=-1)) # 열끼리 합"
      ],
      "metadata": {
        "colab": {
          "base_uri": "https://localhost:8080/"
        },
        "id": "UKFC9ITMco5y",
        "outputId": "7d1ec8ee-8649-4d6f-b0c5-32f1faa888d3"
      },
      "execution_count": 38,
      "outputs": [
        {
          "output_type": "stream",
          "name": "stdout",
          "text": [
            "tensor([ 6., 15.])\n"
          ]
        }
      ]
    },
    {
      "cell_type": "code",
      "source": [
        "print(t.max()) # 행렬에서의 요소값들 중 최대값"
      ],
      "metadata": {
        "colab": {
          "base_uri": "https://localhost:8080/"
        },
        "id": "28xHjPEJdY5p",
        "outputId": "448d8ffc-79c7-447f-973c-959df7dddbd3"
      },
      "execution_count": 39,
      "outputs": [
        {
          "output_type": "stream",
          "name": "stdout",
          "text": [
            "tensor(6.)\n"
          ]
        }
      ]
    },
    {
      "cell_type": "code",
      "source": [
        "print(t.max(dim=0)) # 행렬 중에서 제일 높은 요소값의 행을 출력한다."
      ],
      "metadata": {
        "colab": {
          "base_uri": "https://localhost:8080/"
        },
        "id": "jb3jrKRSd6hh",
        "outputId": "41250c5b-47ea-4031-ae23-fd73522c0d01"
      },
      "execution_count": 42,
      "outputs": [
        {
          "output_type": "stream",
          "name": "stdout",
          "text": [
            "torch.return_types.max(\n",
            "values=tensor([4., 5., 6.]),\n",
            "indices=tensor([1, 1, 1]))\n"
          ]
        }
      ]
    },
    {
      "cell_type": "code",
      "source": [
        "print(t.max(dim=1)) # 행렬 중에서 제일 높은 요소값의 열을 출력한다.\n",
        "# indices: index의 복수형"
      ],
      "metadata": {
        "colab": {
          "base_uri": "https://localhost:8080/"
        },
        "id": "Nq_Fq0nWd-hS",
        "outputId": "3c0b856e-bef9-43c2-abbb-d9b9fcb6a6a5"
      },
      "execution_count": 43,
      "outputs": [
        {
          "output_type": "stream",
          "name": "stdout",
          "text": [
            "torch.return_types.max(\n",
            "values=tensor([3., 6.]),\n",
            "indices=tensor([2, 2]))\n"
          ]
        }
      ]
    },
    {
      "cell_type": "code",
      "source": [
        "t = torch.FloatTensor([[[0,1,2]\n",
        "                        ,[3,4,5]]\n",
        "                       ,[[6,7,8]\n",
        "                         ,[9,10,11]]])\n",
        "print(t)\n",
        "print()\n",
        "print(t.shape) # batch size x 행 x 열"
      ],
      "metadata": {
        "colab": {
          "base_uri": "https://localhost:8080/"
        },
        "id": "bTVg_P_sewG2",
        "outputId": "f075c37b-245a-4535-c16d-1e27f99aed75"
      },
      "execution_count": 48,
      "outputs": [
        {
          "output_type": "stream",
          "name": "stdout",
          "text": [
            "tensor([[[ 0.,  1.,  2.],\n",
            "         [ 3.,  4.,  5.]],\n",
            "\n",
            "        [[ 6.,  7.,  8.],\n",
            "         [ 9., 10., 11.]]])\n",
            "\n",
            "torch.Size([2, 2, 3])\n"
          ]
        }
      ]
    },
    {
      "cell_type": "code",
      "source": [
        "# view: 텐서 shape 변경하기\n",
        "print(t.view(4,3))\n",
        "print()\n",
        "print(t.view(2,1,6))"
      ],
      "metadata": {
        "colab": {
          "base_uri": "https://localhost:8080/"
        },
        "id": "Wl8TYe4IfgtE",
        "outputId": "9eda3732-dae3-4f81-a14d-d9c6eecb617e"
      },
      "execution_count": 46,
      "outputs": [
        {
          "output_type": "stream",
          "name": "stdout",
          "text": [
            "tensor([[ 0.,  1.,  2.],\n",
            "        [ 3.,  4.,  5.],\n",
            "        [ 6.,  7.,  8.],\n",
            "        [ 9., 10., 11.]])\n",
            "\n",
            "tensor([[[ 0.,  1.,  2.,  3.,  4.,  5.]],\n",
            "\n",
            "        [[ 6.,  7.,  8.,  9., 10., 11.]]])\n"
          ]
        }
      ]
    },
    {
      "cell_type": "code",
      "source": [
        "# view안에서 -1의 값을 넣으면, -1이 입력된 차원은 PyTorch에서 알아서 크기를 맞추라는 것으로 해석된다\n",
        "# 이 -1은 view 메서드 내에서 단 한번 사용할 수 있다.\n",
        "print(t.view(-1,3))"
      ],
      "metadata": {
        "colab": {
          "base_uri": "https://localhost:8080/"
        },
        "id": "8GAGaDSChl92",
        "outputId": "9d85b128-64be-4112-d9da-07ad5dcd4f19"
      },
      "execution_count": 47,
      "outputs": [
        {
          "output_type": "stream",
          "name": "stdout",
          "text": [
            "tensor([[ 0.,  1.,  2.],\n",
            "        [ 3.,  4.,  5.],\n",
            "        [ 6.,  7.,  8.],\n",
            "        [ 9., 10., 11.]])\n"
          ]
        }
      ]
    },
    {
      "cell_type": "code",
      "source": [
        "print(t.view(-1,3).shape)"
      ],
      "metadata": {
        "colab": {
          "base_uri": "https://localhost:8080/"
        },
        "id": "NDCRkv_qiOta",
        "outputId": "97a98df9-a3b6-499c-89e5-9c754ac2abf1"
      },
      "execution_count": 50,
      "outputs": [
        {
          "output_type": "stream",
          "name": "stdout",
          "text": [
            "torch.Size([4, 3])\n"
          ]
        }
      ]
    },
    {
      "cell_type": "code",
      "source": [
        "# squeeze() 메서드: 텐서를 눌러서 크기가 1인 차원은 모두 제거하는 기능\n",
        "ft = torch.FloatTensor([[0]\n",
        "                        ,[1]\n",
        "                        ,[2]])\n",
        "print(ft)"
      ],
      "metadata": {
        "colab": {
          "base_uri": "https://localhost:8080/"
        },
        "id": "kzT0edsRiZyv",
        "outputId": "7549074e-5c44-4877-d438-715b59ca51bd"
      },
      "execution_count": 51,
      "outputs": [
        {
          "output_type": "stream",
          "name": "stdout",
          "text": [
            "tensor([[0.],\n",
            "        [1.],\n",
            "        [2.]])\n"
          ]
        }
      ]
    },
    {
      "cell_type": "code",
      "source": [
        "print(ft.shape)"
      ],
      "metadata": {
        "colab": {
          "base_uri": "https://localhost:8080/"
        },
        "id": "teh6qbAHi9fF",
        "outputId": "db38de8a-0fe7-428c-e6c0-9f31a9bbe5b6"
      },
      "execution_count": 52,
      "outputs": [
        {
          "output_type": "stream",
          "name": "stdout",
          "text": [
            "torch.Size([3, 1])\n"
          ]
        }
      ]
    },
    {
      "cell_type": "code",
      "source": [
        "print(ft.squeeze())"
      ],
      "metadata": {
        "colab": {
          "base_uri": "https://localhost:8080/"
        },
        "id": "Q4gUzJeNi_FE",
        "outputId": "ca0278ce-c559-4862-9935-f06125d927b3"
      },
      "execution_count": 53,
      "outputs": [
        {
          "output_type": "stream",
          "name": "stdout",
          "text": [
            "tensor([0., 1., 2.])\n"
          ]
        }
      ]
    },
    {
      "cell_type": "code",
      "source": [
        "print(ft.squeeze().shape)"
      ],
      "metadata": {
        "colab": {
          "base_uri": "https://localhost:8080/"
        },
        "id": "X9Q_OjHZjFig",
        "outputId": "f0d6991e-c43d-4063-dfae-c65731e07201"
      },
      "execution_count": 54,
      "outputs": [
        {
          "output_type": "stream",
          "name": "stdout",
          "text": [
            "torch.Size([3])\n"
          ]
        }
      ]
    },
    {
      "cell_type": "code",
      "source": [
        "# unsqueeze() 메서드: 입력받은 인덱스에 크기가 1인 차원을 추가함.\n",
        "ft = torch.Tensor([0,1,2])\n",
        "print(ft)"
      ],
      "metadata": {
        "colab": {
          "base_uri": "https://localhost:8080/"
        },
        "id": "_XkIs5izjITD",
        "outputId": "2df39081-e274-431c-8116-6c51540562dc"
      },
      "execution_count": 3,
      "outputs": [
        {
          "output_type": "stream",
          "name": "stdout",
          "text": [
            "tensor([0., 1., 2.])\n"
          ]
        }
      ]
    },
    {
      "cell_type": "code",
      "source": [
        "print(ft.shape)"
      ],
      "metadata": {
        "colab": {
          "base_uri": "https://localhost:8080/"
        },
        "id": "3MUxNU-lxXHY",
        "outputId": "ceed3905-0988-4cd4-c1b2-83bfbada0c93"
      },
      "execution_count": 4,
      "outputs": [
        {
          "output_type": "stream",
          "name": "stdout",
          "text": [
            "torch.Size([3])\n"
          ]
        }
      ]
    },
    {
      "cell_type": "code",
      "source": [
        "print(ft.unsqueeze(0)) # 인덱스가 0부터 시작하므로 0은 첫번째 차원을 의미함."
      ],
      "metadata": {
        "colab": {
          "base_uri": "https://localhost:8080/"
        },
        "id": "RFpnfJgtxjMr",
        "outputId": "f8e9594d-a7d1-4714-d54f-23d9f2e20622"
      },
      "execution_count": 6,
      "outputs": [
        {
          "output_type": "stream",
          "name": "stdout",
          "text": [
            "tensor([[0., 1., 2.]])\n"
          ]
        }
      ]
    },
    {
      "cell_type": "code",
      "source": [
        "print(ft.unsqueeze(0).shape) # 첫번째 부분에서 1차원 추가됨"
      ],
      "metadata": {
        "colab": {
          "base_uri": "https://localhost:8080/"
        },
        "id": "xhzhuwMuxn52",
        "outputId": "f071e40e-8af1-42c2-f3f7-4d652c6496ab"
      },
      "execution_count": 7,
      "outputs": [
        {
          "output_type": "stream",
          "name": "stdout",
          "text": [
            "torch.Size([1, 3])\n"
          ]
        }
      ]
    },
    {
      "cell_type": "markdown",
      "source": [
        "#view, squeeze, unsqueeze\n",
        "- view(), squeeze(), unsqueeze() 메서드 모두 텐서의 요소들을 그대로 유지하면서 shape을 바꾸는 기능을 함.\n",
        "\n",
        "- view()를 통해서 squeeze(), unsqueeze()의 기능을 대체할 수 있으나, 크기가 1인 차원을 없애거나 추가할 일이 자주 있기 때문에 따로 메서드가 존재함.\n",
        "\n",
        "#Type casting\n",
        "- long(), float(), double() 등 각 텐서 타입 이름에 해당하는 메서드를 통해 텐서의 타입을 변경할 수 있음.\n",
        "\n",
        "\n"
      ],
      "metadata": {
        "id": "ILqDiVDKyMJ3"
      }
    },
    {
      "cell_type": "code",
      "source": [
        "# Type casting\n",
        "lt = torch.LongTensor([1,2,3,4])\n",
        "print(lt)"
      ],
      "metadata": {
        "colab": {
          "base_uri": "https://localhost:8080/"
        },
        "id": "oMiluxeGx4fd",
        "outputId": "4725e63d-845f-4449-8518-a4dc35af1bf3"
      },
      "execution_count": 8,
      "outputs": [
        {
          "output_type": "stream",
          "name": "stdout",
          "text": [
            "tensor([1, 2, 3, 4])\n"
          ]
        }
      ]
    },
    {
      "cell_type": "code",
      "source": [
        "print(lt.float())"
      ],
      "metadata": {
        "colab": {
          "base_uri": "https://localhost:8080/"
        },
        "id": "0rQ4IJsGzjIE",
        "outputId": "5c4e42d9-d817-49e0-a1dc-0ac64fe96e80"
      },
      "execution_count": 9,
      "outputs": [
        {
          "output_type": "stream",
          "name": "stdout",
          "text": [
            "tensor([1., 2., 3., 4.])\n"
          ]
        }
      ]
    },
    {
      "cell_type": "code",
      "source": [
        "print(lt.double())"
      ],
      "metadata": {
        "colab": {
          "base_uri": "https://localhost:8080/"
        },
        "id": "h5KhopyrznMo",
        "outputId": "ae67a6bb-b7e8-4041-bd7b-3ec5a23d1f39"
      },
      "execution_count": 10,
      "outputs": [
        {
          "output_type": "stream",
          "name": "stdout",
          "text": [
            "tensor([1., 2., 3., 4.], dtype=torch.float64)\n"
          ]
        }
      ]
    },
    {
      "cell_type": "code",
      "source": [
        "print(lt.float().dtype)\n",
        "print(lt.double().dtype)"
      ],
      "metadata": {
        "colab": {
          "base_uri": "https://localhost:8080/"
        },
        "id": "DE2O7OcfzsAf",
        "outputId": "1ca1943a-f1cf-4840-e349-5bfbdd94bd5a"
      },
      "execution_count": 13,
      "outputs": [
        {
          "output_type": "stream",
          "name": "stdout",
          "text": [
            "torch.float32\n",
            "torch.float64\n"
          ]
        }
      ]
    },
    {
      "cell_type": "code",
      "source": [
        "# Concatenate\n",
        "# torch.cat(): 함수를 통해서 텐서끼리 연결할 수 있음.\n",
        "# 어떤 인덱스의 차원을 연결할 것인지를 dim 매개변수를 통해서 입력해주어야 함.\n",
        "\n",
        "x = torch.FloatTensor([[1,2]\n",
        "                       ,[3,4]])\n",
        "y = torch.FloatTensor([[5,6]\n",
        "                       ,[7,8]])\n",
        "\n",
        "print(torch.cat([x,y], dim=0)) # 행이 늘어남"
      ],
      "metadata": {
        "colab": {
          "base_uri": "https://localhost:8080/"
        },
        "id": "6WSWhQKf1QBF",
        "outputId": "cc27283f-eeaa-45c3-c977-7b544db8fbea"
      },
      "execution_count": 14,
      "outputs": [
        {
          "output_type": "stream",
          "name": "stdout",
          "text": [
            "tensor([[1., 2.],\n",
            "        [3., 4.],\n",
            "        [5., 6.],\n",
            "        [7., 8.]])\n"
          ]
        }
      ]
    },
    {
      "cell_type": "code",
      "source": [
        "print(torch.cat([x,y],dim=1)) # 열이 늘어남"
      ],
      "metadata": {
        "colab": {
          "base_uri": "https://localhost:8080/"
        },
        "id": "CF3k24fM2jcj",
        "outputId": "648cf80e-f99f-4010-a98f-012d34bc578c"
      },
      "execution_count": 15,
      "outputs": [
        {
          "output_type": "stream",
          "name": "stdout",
          "text": [
            "tensor([[1., 2., 5., 6.],\n",
            "        [3., 4., 7., 8.]])\n"
          ]
        }
      ]
    },
    {
      "cell_type": "code",
      "source": [
        "# ones_like, zeros_like\n",
        "# torch.ones_like(), torch.zeros_like() 함수를 통해서 입력받는 텐서의 shape과 똑같은 shape을 가지면서 1로 채워진 텐서 혹은 0으로 채워진 텐서를 생성 가능\n",
        "\n",
        "x = torch.FloatTensor([[0,1,2]\n",
        "                       ,[2,1,0]])\n",
        "print(x)"
      ],
      "metadata": {
        "colab": {
          "base_uri": "https://localhost:8080/"
        },
        "id": "nyoiSfvm2352",
        "outputId": "11eb9733-1475-4159-9761-2c377f939711"
      },
      "execution_count": 16,
      "outputs": [
        {
          "output_type": "stream",
          "name": "stdout",
          "text": [
            "tensor([[0., 1., 2.],\n",
            "        [2., 1., 0.]])\n"
          ]
        }
      ]
    },
    {
      "cell_type": "code",
      "source": [
        "print(torch.ones_like(x)) # 입력 텐서와 크기를 동일하게 하면서 값을 1로 채운 텐서 출력"
      ],
      "metadata": {
        "colab": {
          "base_uri": "https://localhost:8080/"
        },
        "id": "D-348ZTp3opD",
        "outputId": "a2616bd9-72d0-4646-cb60-28bef599a551"
      },
      "execution_count": 17,
      "outputs": [
        {
          "output_type": "stream",
          "name": "stdout",
          "text": [
            "tensor([[1., 1., 1.],\n",
            "        [1., 1., 1.]])\n"
          ]
        }
      ]
    },
    {
      "cell_type": "code",
      "source": [
        "print(torch.zeros_like(x)) # 입력 텐서와 크기를 동일하게 하면서 값을 0으로 채운 텐서 출력"
      ],
      "metadata": {
        "colab": {
          "base_uri": "https://localhost:8080/"
        },
        "id": "WAFhCC4n5HvA",
        "outputId": "d639ba8b-ae38-4c01-cfaa-9aa018dd6099"
      },
      "execution_count": 18,
      "outputs": [
        {
          "output_type": "stream",
          "name": "stdout",
          "text": [
            "tensor([[0., 0., 0.],\n",
            "        [0., 0., 0.]])\n"
          ]
        }
      ]
    },
    {
      "cell_type": "code",
      "source": [
        "# ones, zeros\n",
        "# torch.ones(), torch.zeros() 함수를 이용하면 view() 메서드에 입력하듯 shape 정보를 입력해서 해당 shape을 가지면서 1로 채워졌거나 0으로 채워진 텐서를 생성할 수 있음.\n",
        "\n",
        "print(torch.ones(2,3)) # shape를 지정하여 1로 채운 텐서 생성"
      ],
      "metadata": {
        "colab": {
          "base_uri": "https://localhost:8080/"
        },
        "id": "EwpT1w5o5Mvs",
        "outputId": "3f049ad2-140c-486c-8675-7006e142f466"
      },
      "execution_count": 19,
      "outputs": [
        {
          "output_type": "stream",
          "name": "stdout",
          "text": [
            "tensor([[1., 1., 1.],\n",
            "        [1., 1., 1.]])\n"
          ]
        }
      ]
    },
    {
      "cell_type": "code",
      "source": [
        "print(torch.zeros(3,2)) # shape를 지정하여 0으로 채운 텐서 생성"
      ],
      "metadata": {
        "colab": {
          "base_uri": "https://localhost:8080/"
        },
        "id": "gASb3A9P5sVO",
        "outputId": "659da193-934d-43ce-a825-d789883b5878"
      },
      "execution_count": 20,
      "outputs": [
        {
          "output_type": "stream",
          "name": "stdout",
          "text": [
            "tensor([[0., 0.],\n",
            "        [0., 0.],\n",
            "        [0., 0.]])\n"
          ]
        }
      ]
    }
  ]
}