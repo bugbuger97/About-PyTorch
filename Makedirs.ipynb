{
  "nbformat": 4,
  "nbformat_minor": 0,
  "metadata": {
    "colab": {
      "provenance": []
    },
    "kernelspec": {
      "name": "python3",
      "display_name": "Python 3"
    },
    "language_info": {
      "name": "python"
    }
  },
  "cells": [
    {
      "cell_type": "markdown",
      "source": [
        "# 목차\n",
        "\n",
        "1. 파이썬 - 타입, 라이브러리, 함수, 모듈, 클래스, 그래프 그리기\n",
        "\n",
        "2. 파이토치 - 텐서, 역전파, 데이터 불러오기\n",
        "\n",
        "3. 지도학습 - 집 값 예측, 이미지 분류, 주가 예측\n",
        "\n",
        "4. 전이학습\n",
        "\n",
        "5. 비지도 학습 - 오토인코더, 생성적 적대 신경망\n",
        "\n",
        "6. 시각화 - 설명 가능한 AI, 차원 축소 기법\n",
        "\n",
        "7. 성능 향상 - 과적합, 데이터 불균형 해결"
      ],
      "metadata": {
        "id": "SwgVv2Y4NWkh"
      }
    },
    {
      "cell_type": "markdown",
      "source": [
        "#Makedirs\n",
        "\n",
        "데이터를 특정 폴더에 저장하고 싶을 때 사용함.\n",
        "\n",
        "생성할 결과물이 많고 폴더를 여러 개로 나누어 저장하는 경우, 코드 시작 시 자동으로 폴더의 유무를 확인하고 생성함."
      ],
      "metadata": {
        "id": "3liMjMZNqXsT"
      }
    },
    {
      "cell_type": "code",
      "source": [
        "from google.colab import drive\n",
        "drive.mount('/content/drive')"
      ],
      "metadata": {
        "colab": {
          "base_uri": "https://localhost:8080/"
        },
        "id": "lRt58dADShlO",
        "outputId": "d12f8a19-1d9c-4e30-e8bc-cb2e518fbe70"
      },
      "execution_count": 47,
      "outputs": [
        {
          "output_type": "stream",
          "name": "stdout",
          "text": [
            "Drive already mounted at /content/drive; to attempt to forcibly remount, call drive.mount(\"/content/drive\", force_remount=True).\n"
          ]
        }
      ]
    },
    {
      "cell_type": "code",
      "source": [
        "cd/content/drive/MyDrive/deeplearning/deeplearningbrov2/python"
      ],
      "metadata": {
        "colab": {
          "base_uri": "https://localhost:8080/"
        },
        "id": "nd9NI4gsSrN6",
        "outputId": "36311596-6410-484d-f5ec-b55aee6f9074"
      },
      "execution_count": 48,
      "outputs": [
        {
          "output_type": "stream",
          "name": "stdout",
          "text": [
            "/content/drive/MyDrive/deeplearning/deeplearningbrov2/python\n"
          ]
        }
      ]
    },
    {
      "cell_type": "code",
      "source": [
        "import numpy as np"
      ],
      "metadata": {
        "id": "pBLT8niQS2hR"
      },
      "execution_count": 49,
      "outputs": []
    },
    {
      "cell_type": "code",
      "source": [
        "import os"
      ],
      "metadata": {
        "id": "tOVi_xhWTZdA"
      },
      "execution_count": 51,
      "outputs": []
    },
    {
      "cell_type": "code",
      "source": [
        "def directory_create(folder_name):\n",
        "  try:\n",
        "    os.makedirs(folder_name)\n",
        "    print(\"Directory\", folder_name, \": Created\")\n",
        "  except FileExistsError:\n",
        "    print(\"Directory\", folder_name, \": Already Exists\")"
      ],
      "metadata": {
        "id": "QdGFkNT-TcHO"
      },
      "execution_count": 52,
      "outputs": []
    },
    {
      "cell_type": "code",
      "source": [
        "directory_create('data/class')"
      ],
      "metadata": {
        "colab": {
          "base_uri": "https://localhost:8080/"
        },
        "id": "-QSfgucIUDdG",
        "outputId": "4eaa8a17-35e6-4be4-9813-09fb46eb4b0d"
      },
      "execution_count": 53,
      "outputs": [
        {
          "output_type": "stream",
          "name": "stdout",
          "text": [
            "Directory data/class : Created\n"
          ]
        }
      ]
    },
    {
      "cell_type": "code",
      "source": [
        "data = np.ones(2)\n",
        "np.save('./data/class/ones.npy',data)"
      ],
      "metadata": {
        "id": "NMSG9qcaS5oY"
      },
      "execution_count": 54,
      "outputs": []
    },
    {
      "cell_type": "code",
      "source": [
        "directory_create('data/class')"
      ],
      "metadata": {
        "colab": {
          "base_uri": "https://localhost:8080/"
        },
        "id": "bpcFDGxyTB8A",
        "outputId": "08baf194-0a23-4e10-f5ee-38d331f119a7"
      },
      "execution_count": 55,
      "outputs": [
        {
          "output_type": "stream",
          "name": "stdout",
          "text": [
            "Directory data/class : Already Exists\n"
          ]
        }
      ]
    },
    {
      "cell_type": "code",
      "source": [
        "os.makedirs('ex')"
      ],
      "metadata": {
        "id": "vjnrxqFwU395"
      },
      "execution_count": 57,
      "outputs": []
    },
    {
      "cell_type": "code",
      "source": [
        "print(os.getcwd()) # 파일이 어디에 생성되었는지 경로 확인"
      ],
      "metadata": {
        "colab": {
          "base_uri": "https://localhost:8080/"
        },
        "id": "s42PGZtWU6xO",
        "outputId": "ad1f1b0d-8f1e-4664-96e2-38fc0628eb26"
      },
      "execution_count": 60,
      "outputs": [
        {
          "output_type": "stream",
          "name": "stdout",
          "text": [
            "/content/drive/MyDrive/deeplearning/deeplearningbrov2/python\n"
          ]
        }
      ]
    }
  ]
}