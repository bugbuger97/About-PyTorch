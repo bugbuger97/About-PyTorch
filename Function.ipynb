{
  "nbformat": 4,
  "nbformat_minor": 0,
  "metadata": {
    "colab": {
      "provenance": []
    },
    "kernelspec": {
      "name": "python3",
      "display_name": "Python 3"
    },
    "language_info": {
      "name": "python"
    }
  },
  "cells": [
    {
      "cell_type": "markdown",
      "source": [
        "# 목차\n",
        "\n",
        "1. 파이썬 - 타입, 라이브러리, 함수, 모듈, 클래스, 그래프 그리기\n",
        "\n",
        "2. 파이토치 - 텐서, 역전파, 데이터 불러오기\n",
        "\n",
        "3. 지도학습 - 집 값 예측, 이미지 분류, 주가 예측\n",
        "\n",
        "4. 전이학습\n",
        "\n",
        "5. 비지도 학습 - 오토인코더, 생성적 적대 신경망\n",
        "\n",
        "6. 시각화 - 설명 가능한 AI, 차원 축소 기법\n",
        "\n",
        "7. 성능 향상 - 과적합, 데이터 불균형 해결"
      ],
      "metadata": {
        "id": "SwgVv2Y4NWkh"
      }
    },
    {
      "cell_type": "markdown",
      "source": [
        "#Funtion\n",
        "\n",
        "함수 하나를 정의해 코드를 쉽게 알아볼 수 있게 하고 필요할 때마다 편리하게 미리 정의된 함수를 불러와서 사용한다.\n",
        "(1함수 1기능 구현 원칙 사용)"
      ],
      "metadata": {
        "id": "3liMjMZNqXsT"
      }
    },
    {
      "cell_type": "markdown",
      "source": [
        "- 음수 개수 판독기"
      ],
      "metadata": {
        "id": "hEjZBSb3tBMW"
      }
    },
    {
      "cell_type": "code",
      "source": [
        "import numpy as np"
      ],
      "metadata": {
        "id": "r3mFsezqtJQd"
      },
      "execution_count": 13,
      "outputs": []
    },
    {
      "cell_type": "code",
      "source": [
        "def find_negative(arr): # 함수 이름은 소문자로 시작\n",
        "  count = len(np.where(arr < 0)[0]) # np.where(조건) -> 조건을 만족하는 인덱스 반환 ex) 튜플 형태(array([1,2,3,4]),)\n",
        "  print(f'해당 배열에 음수가 {count}개 있다.')"
      ],
      "metadata": {
        "id": "tcvRIGumqiKu"
      },
      "execution_count": 20,
      "outputs": []
    },
    {
      "cell_type": "code",
      "source": [
        "arr = np.array([0,1,-1,-2,-5,7])\n",
        "find_negative(arr)"
      ],
      "metadata": {
        "colab": {
          "base_uri": "https://localhost:8080/"
        },
        "id": "mxOUClPEvCp5",
        "outputId": "7783eb03-0260-449e-90d4-1595c68f3f53"
      },
      "execution_count": 21,
      "outputs": [
        {
          "output_type": "stream",
          "name": "stdout",
          "text": [
            "해당 배열에 음수가 3개 있다.\n"
          ]
        }
      ]
    },
    {
      "cell_type": "markdown",
      "source": [
        "- 목적 함수 정의"
      ],
      "metadata": {
        "id": "498pdF-r4Mno"
      }
    },
    {
      "cell_type": "code",
      "source": [
        "def objective_func(x):\n",
        "  return np.sin(x) + np.cos(x) + .5*np.exp(x)"
      ],
      "metadata": {
        "id": "HRvXko_NvR5y"
      },
      "execution_count": 22,
      "outputs": []
    },
    {
      "cell_type": "code",
      "source": [
        "y = objective_func(arr)"
      ],
      "metadata": {
        "id": "uVeNi_ps48Oe"
      },
      "execution_count": 23,
      "outputs": []
    },
    {
      "cell_type": "code",
      "source": [
        "print(y)"
      ],
      "metadata": {
        "colab": {
          "base_uri": "https://localhost:8080/"
        },
        "id": "B6eFCZdf5Dfj",
        "outputId": "5328727f-85a9-42ca-bfb6-29030e88c0b4"
      },
      "execution_count": 24,
      "outputs": [
        {
          "output_type": "stream",
          "name": "stdout",
          "text": [
            "[ 1.50000000e+00  2.74091420e+00 -1.17228958e-01 -1.25777662e+00\n",
            "  1.24595543e+00  5.49727468e+02]\n"
          ]
        }
      ]
    },
    {
      "cell_type": "markdown",
      "source": [
        "- 데이터 요약"
      ],
      "metadata": {
        "id": "eycIZ0Y25Qgd"
      }
    },
    {
      "cell_type": "code",
      "source": [
        "# 테이블형 데이터\n",
        "# 각 열의 평균\n",
        "# 각 열의 표준 편차\n",
        "# 각 열의 최댓값\n",
        "# 각 열의 최솟값\n",
        "# 이상치의 갯수 확인\n",
        "\n",
        "def data_description(data):\n",
        "  cmax = np.max(data, axis=0) # array안에서의 최대값, axis = 0 -> 행\n",
        "  cmin = np.min(data, axis=0) # array안에서의 최소값, axis = 1 -> 열\n",
        "  cmean = np.mean(data, axis=0) # array안에서의 평균\n",
        "  cstd = np.std(data, axis = 0) # array안에서의 표준 편차\n",
        "  outlier_idx = np.where(data[:,4] > 100)[0] # 4번째 열의 값이 100이 넘으면 이상치이다.\n",
        "  outlier1 = len(outlier_idx) # 이상치의 갯수\n",
        "\n",
        "  print(f'인스턴스 개수 : {data.shape[0]}, 변수의 개수 : {data.shape[1]}이다.') # 행의 갯수 == 데이터의 개수, 변수의 개수 ==\n",
        "  print(f'x5 변수에 대한 이상치 : {outlier1}개 이다.')\n",
        "\n",
        "  return cmax, cmin, cmean, cstd"
      ],
      "metadata": {
        "id": "DzMve6wD5GEJ"
      },
      "execution_count": 25,
      "outputs": []
    },
    {
      "cell_type": "code",
      "source": [
        "data = np.random.randint(0,105, size=(100,20))"
      ],
      "metadata": {
        "id": "aGp6CTjq7Uhd"
      },
      "execution_count": 26,
      "outputs": []
    },
    {
      "cell_type": "code",
      "source": [
        "cmax, cmin, cmean, cstd = data_description(data)"
      ],
      "metadata": {
        "colab": {
          "base_uri": "https://localhost:8080/"
        },
        "id": "fc7fp-w_8BWT",
        "outputId": "ecfb1652-fd11-4127-8629-62aebdd70a71"
      },
      "execution_count": 27,
      "outputs": [
        {
          "output_type": "stream",
          "name": "stdout",
          "text": [
            "인스턴스 개수 : 100, 변수의 개수 : 20이다.\n",
            "x5 변수에 대한 이상치 : 5개 이다.\n"
          ]
        }
      ]
    },
    {
      "cell_type": "code",
      "source": [
        "print(cmax)\n",
        "print()\n",
        "print(cmin)\n",
        "print()\n",
        "print(cmean)\n",
        "print()\n",
        "print(cstd)"
      ],
      "metadata": {
        "colab": {
          "base_uri": "https://localhost:8080/"
        },
        "id": "PhBVvL1O8Lh9",
        "outputId": "94cc6f3b-d157-4b8f-d79a-dfaa4c3703d4"
      },
      "execution_count": 29,
      "outputs": [
        {
          "output_type": "stream",
          "name": "stdout",
          "text": [
            "[103 103 104 104 104 103 104 104 104 104 104 102 104 103  99 104  98 104\n",
            " 103 104]\n",
            "\n",
            "[1 0 5 0 0 2 1 0 0 0 1 0 0 1 2 0 0 3 0 0]\n",
            "\n",
            "[50.68 47.22 54.15 54.14 53.6  45.12 50.97 52.96 52.57 50.82 51.46 50.8\n",
            " 52.6  46.9  52.7  55.26 49.45 54.57 54.99 50.55]\n",
            "\n",
            "[29.07640968 28.1640125  30.33162541 30.11777548 32.20590008 30.23384858\n",
            " 32.57620451 31.03286    30.03806086 29.70669285 32.48427927 29.04858\n",
            " 31.23331555 30.0680894  27.82211351 30.42815144 29.60384266 29.97273928\n",
            " 31.46378712 28.74452122]\n"
          ]
        }
      ]
    }
  ]
}