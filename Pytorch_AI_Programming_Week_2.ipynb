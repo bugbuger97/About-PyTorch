{
  "nbformat": 4,
  "nbformat_minor": 0,
  "metadata": {
    "colab": {
      "provenance": []
    },
    "kernelspec": {
      "name": "python3",
      "display_name": "Python 3"
    },
    "language_info": {
      "name": "python"
    }
  },
  "cells": [
    {
      "cell_type": "markdown",
      "source": [
        "#Tensor\n",
        "\n",
        "- 행렬(matrix) : 2차원으로 구성된 데이터\n",
        "\n",
        "- 텐서(Tensor) : 3차원으로 구성된 데이터\n",
        "\n",
        "- 실제 프로그래밍을 할 때, 차원을 가진 1차원 이상의 데이터를 모두 텐서라고 표현함.\n",
        "\n",
        "#Numpy\n",
        "\n",
        "- 수치 계산, 통계, 신호 처리, 생물 정보학 등 상세한 숫자(큰 숫자 및 소수점 아래 표현력이 중요 숫자 등)을 다루는 분야를 위해 널리 쓰이는 파이썬 오픈 소스 라이브러리\n",
        "\n",
        "- numpy 모듈을 import해서 사용할 수 있으며, numpy에서 글자 수를 줄이기 위해 np라는 별칭(alias)로 자주 쓰임.\n",
        "\n"
      ],
      "metadata": {
        "id": "C-rU1KixNTXz"
      }
    },
    {
      "cell_type": "code",
      "source": [
        "import numpy as np # numpy 라이브러리 불러오기"
      ],
      "metadata": {
        "id": "Nk_4UnZHLzoB"
      },
      "execution_count": 1,
      "outputs": []
    },
    {
      "cell_type": "code",
      "source": [
        "a = np.array([1,2,3]) # rank = 1인 배열 생성\n",
        "print(type(a)) # \"<type 'numpy.ndarray'>\" 출력\n",
        "print()\n",
        "print(a.shape) # \"(3,)\" 출력\n",
        "print()\n",
        "print(a[0], a[1], a[2]) # \"1 2 3\" 출력\n",
        "a[0] = 5 # 요소를 변경\n",
        "print()\n",
        "print(a) # \"5 2 3\" 출력"
      ],
      "metadata": {
        "colab": {
          "base_uri": "https://localhost:8080/"
        },
        "id": "hE4MTtjfRRmt",
        "outputId": "b3488da6-eb49-429c-be1d-25e13058f384"
      },
      "execution_count": 4,
      "outputs": [
        {
          "output_type": "stream",
          "name": "stdout",
          "text": [
            "<class 'numpy.ndarray'>\n",
            "\n",
            "(3,)\n",
            "\n",
            "1 2 3\n",
            "\n",
            "[5 2 3]\n"
          ]
        }
      ]
    },
    {
      "cell_type": "code",
      "source": [
        "b = np.array([[1,2,3] # rank = 2인 배열 생성\n",
        "              ,[4,5,6]])\n",
        "print(b.shape) # \"(2,3)\" 출력\n",
        "print()\n",
        "print(b[0,0], b[0,1], b[1,0]) # \"1 2 4\" 출력"
      ],
      "metadata": {
        "colab": {
          "base_uri": "https://localhost:8080/"
        },
        "id": "NiJ5TQgTReat",
        "outputId": "87cd020e-3ada-4cf9-ce60-3ced42499884"
      },
      "execution_count": 6,
      "outputs": [
        {
          "output_type": "stream",
          "name": "stdout",
          "text": [
            "(2, 3)\n",
            "\n",
            "1 2 4\n"
          ]
        }
      ]
    },
    {
      "cell_type": "code",
      "source": [
        "t = np.array([0.,1.,2.,3.,4.,5.,6.]) # rank = 1인 배열 생성\n",
        "\n",
        "print('t[0] t[1] t[2] =',t[0], t[1], t[2]) # 인덱스를 통한 원소 접근\n",
        "print('t[2:5] t[4:1] =', t[2:5], t[4:-1]) # [시작 번호 : 끝 번호]로  범위 지정을 통해 가져온다.\n",
        "print('t[:2] t[3:] =', t[:2], t[3:]) # 시작 번호를 생략한 경우와 끝 번호를 생략한 경우"
      ],
      "metadata": {
        "colab": {
          "base_uri": "https://localhost:8080/"
        },
        "id": "3YE4S6sxR2OM",
        "outputId": "96b2d77b-0904-4318-b1b2-35c5f1c5a58f"
      },
      "execution_count": 7,
      "outputs": [
        {
          "output_type": "stream",
          "name": "stdout",
          "text": [
            "t[0] t[1] t[2] = 0.0 1.0 2.0\n",
            "t[2:5] t[4:1] = [2. 3. 4.] [4. 5.]\n",
            "t[:2] t[3:] = [0. 1.] [3. 4. 5. 6.]\n"
          ]
        }
      ]
    },
    {
      "cell_type": "code",
      "source": [
        "x = np.array([1,2])\n",
        "print(x.dtype) # \"int64\" 출력"
      ],
      "metadata": {
        "colab": {
          "base_uri": "https://localhost:8080/"
        },
        "id": "V-yByQj5S5e-",
        "outputId": "caf0b270-e6fe-4ffa-9a7a-a52bd03ec869"
      },
      "execution_count": 8,
      "outputs": [
        {
          "output_type": "stream",
          "name": "stdout",
          "text": [
            "int64\n"
          ]
        }
      ]
    },
    {
      "cell_type": "code",
      "source": [
        "x = np.array([1.0, 2.0])\n",
        "print(x.dtype) # \"float64\" 출력"
      ],
      "metadata": {
        "colab": {
          "base_uri": "https://localhost:8080/"
        },
        "id": "Jhw-Tk3cTHJG",
        "outputId": "0c7fc632-ac27-4a3d-cdea-75c64667c531"
      },
      "execution_count": 9,
      "outputs": [
        {
          "output_type": "stream",
          "name": "stdout",
          "text": [
            "float64\n"
          ]
        }
      ]
    },
    {
      "cell_type": "code",
      "source": [
        "x = np.array([1,2], dtype = np.float64) # 특정 자료형 명시적으로 지정\n",
        "print(x.dtype) # \"float64\" 출력"
      ],
      "metadata": {
        "colab": {
          "base_uri": "https://localhost:8080/"
        },
        "id": "mL_Vek83TNka",
        "outputId": "587a9593-41de-4ca9-9d56-794ebc85975f"
      },
      "execution_count": 11,
      "outputs": [
        {
          "output_type": "stream",
          "name": "stdout",
          "text": [
            "float64\n"
          ]
        }
      ]
    },
    {
      "cell_type": "code",
      "source": [
        "x = np.array([[1,2],[3,4]], dtype=np.float64)\n",
        "y = np.array([[5,6],[7,8]], dtype=np.float64)"
      ],
      "metadata": {
        "id": "uW00trsaTW4T"
      },
      "execution_count": 12,
      "outputs": []
    },
    {
      "cell_type": "code",
      "source": [
        "# 요소별 합\n",
        "print(x+y)\n",
        "print()\n",
        "print(np.add(x,y))"
      ],
      "metadata": {
        "colab": {
          "base_uri": "https://localhost:8080/"
        },
        "id": "kbZ_dd4oUOw_",
        "outputId": "a4278f72-674d-4e07-f7d3-9c7c79e3c307"
      },
      "execution_count": 13,
      "outputs": [
        {
          "output_type": "stream",
          "name": "stdout",
          "text": [
            "[[ 6.  8.]\n",
            " [10. 12.]]\n",
            "\n",
            "[[ 6.  8.]\n",
            " [10. 12.]]\n"
          ]
        }
      ]
    },
    {
      "cell_type": "code",
      "source": [
        "# 요소별 차\n",
        "print(x - y)\n",
        "print()\n",
        "print(np.subtract(x,y))"
      ],
      "metadata": {
        "colab": {
          "base_uri": "https://localhost:8080/"
        },
        "id": "X8jEE42hUTfV",
        "outputId": "64ab82d7-d9bb-4a79-bf53-0c4ad47e8d5f"
      },
      "execution_count": 14,
      "outputs": [
        {
          "output_type": "stream",
          "name": "stdout",
          "text": [
            "[[-4. -4.]\n",
            " [-4. -4.]]\n",
            "\n",
            "[[-4. -4.]\n",
            " [-4. -4.]]\n"
          ]
        }
      ]
    },
    {
      "cell_type": "code",
      "source": [
        "# 요소별 곱\n",
        "print(x*y)\n",
        "print()\n",
        "print(np.multiply(x,y))"
      ],
      "metadata": {
        "colab": {
          "base_uri": "https://localhost:8080/"
        },
        "id": "X00try4jUaNt",
        "outputId": "70c01be1-8d6c-421e-9af8-394ae3915b2e"
      },
      "execution_count": 15,
      "outputs": [
        {
          "output_type": "stream",
          "name": "stdout",
          "text": [
            "[[ 5. 12.]\n",
            " [21. 32.]]\n",
            "\n",
            "[[ 5. 12.]\n",
            " [21. 32.]]\n"
          ]
        }
      ]
    },
    {
      "cell_type": "code",
      "source": [
        "# 요소별 나눗셈\n",
        "print(x/y)\n",
        "print()\n",
        "print(np.divide(x,y))"
      ],
      "metadata": {
        "colab": {
          "base_uri": "https://localhost:8080/"
        },
        "id": "XoWoCX4_Uflb",
        "outputId": "069f94aa-3630-4182-a9bf-7e8da2a1c3ba"
      },
      "execution_count": 16,
      "outputs": [
        {
          "output_type": "stream",
          "name": "stdout",
          "text": [
            "[[0.2        0.33333333]\n",
            " [0.42857143 0.5       ]]\n",
            "\n",
            "[[0.2        0.33333333]\n",
            " [0.42857143 0.5       ]]\n"
          ]
        }
      ]
    },
    {
      "cell_type": "code",
      "source": [
        "# 요소별 제곱근\n",
        "print(np.sqrt(x))"
      ],
      "metadata": {
        "colab": {
          "base_uri": "https://localhost:8080/"
        },
        "id": "u2wjoAMoUlyU",
        "outputId": "2f22e3a2-e669-4ceb-95b6-0db8629e6651"
      },
      "execution_count": 17,
      "outputs": [
        {
          "output_type": "stream",
          "name": "stdout",
          "text": [
            "[[1.         1.41421356]\n",
            " [1.73205081 2.        ]]\n"
          ]
        }
      ]
    },
    {
      "cell_type": "code",
      "source": [
        "x = np.array([[1,2],[3,4]])\n",
        "y = np.array([[5,6],[7,8]])\n",
        "\n",
        "v = np.array([9,10])\n",
        "w = np.array([11,12])"
      ],
      "metadata": {
        "id": "JBTsQU7kUo64"
      },
      "execution_count": 18,
      "outputs": []
    },
    {
      "cell_type": "code",
      "source": [
        "# 벡터의 내적\n",
        "print(v.dot(w))\n",
        "print()\n",
        "print(np.dot(v,w))"
      ],
      "metadata": {
        "colab": {
          "base_uri": "https://localhost:8080/"
        },
        "id": "MhBdSVCXVLzs",
        "outputId": "631f5f37-e6cc-4ba8-f6ae-e90c2438ff09"
      },
      "execution_count": 19,
      "outputs": [
        {
          "output_type": "stream",
          "name": "stdout",
          "text": [
            "219\n",
            "\n",
            "219\n"
          ]
        }
      ]
    },
    {
      "cell_type": "code",
      "source": [
        "# 행렬과 벡터의 곱\n",
        "print(x.dot(v))\n",
        "print()\n",
        "print(np.dot(x,v))"
      ],
      "metadata": {
        "colab": {
          "base_uri": "https://localhost:8080/"
        },
        "id": "j6y-_BSjVSwb",
        "outputId": "348a0444-ac79-4f60-d2a6-86ba70535f2f"
      },
      "execution_count": 20,
      "outputs": [
        {
          "output_type": "stream",
          "name": "stdout",
          "text": [
            "[29 67]\n",
            "\n",
            "[29 67]\n"
          ]
        }
      ]
    },
    {
      "cell_type": "code",
      "source": [
        "# 행렬곱\n",
        "print(x.dot(y))\n",
        "print()\n",
        "print(np.dot(x,y))"
      ],
      "metadata": {
        "colab": {
          "base_uri": "https://localhost:8080/"
        },
        "id": "DsmT6ILSVX8V",
        "outputId": "581b2d48-7e6c-4dff-e642-7a83b3e4bdf1"
      },
      "execution_count": 21,
      "outputs": [
        {
          "output_type": "stream",
          "name": "stdout",
          "text": [
            "[[19 22]\n",
            " [43 50]]\n",
            "\n",
            "[[19 22]\n",
            " [43 50]]\n"
          ]
        }
      ]
    }
  ]
}