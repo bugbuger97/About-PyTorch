{
  "nbformat": 4,
  "nbformat_minor": 0,
  "metadata": {
    "colab": {
      "provenance": []
    },
    "kernelspec": {
      "name": "python3",
      "display_name": "Python 3"
    },
    "language_info": {
      "name": "python"
    }
  },
  "cells": [
    {
      "cell_type": "markdown",
      "source": [
        "# Softmax Regression"
      ],
      "metadata": {
        "id": "InNhoyEJwh0C"
      }
    },
    {
      "cell_type": "code",
      "source": [
        "import torch\n",
        "import torch.nn as nn\n",
        "import torch.nn.functional as F\n",
        "import torch.optim as optim\n",
        "\n",
        "# 파이썬 코드를 재실행해도 같은 결과가 나오도록 random seed를 설정함.\n",
        "torch.manual_seed(1)"
      ],
      "metadata": {
        "colab": {
          "base_uri": "https://localhost:8080/"
        },
        "id": "H03IGif5N0hC",
        "outputId": "bbb55d13-59d5-48c8-b921-24f6fc6c9626"
      },
      "execution_count": 6,
      "outputs": [
        {
          "output_type": "execute_result",
          "data": {
            "text/plain": [
              "<torch._C.Generator at 0x7faf5c2b8c10>"
            ]
          },
          "metadata": {},
          "execution_count": 6
        }
      ]
    },
    {
      "cell_type": "code",
      "source": [
        "# Model code\n",
        "\n",
        "class SoftmaxRegression(nn.Module):\n",
        "  def __init__(self):\n",
        "    super().__init__()\n",
        "    self.linear = nn.Linear(4,3)\n",
        "\n",
        "  def forward(self, x):\n",
        "    return self.linear(x)"
      ],
      "metadata": {
        "id": "IvyeDUyoPXyJ"
      },
      "execution_count": 7,
      "outputs": []
    },
    {
      "cell_type": "code",
      "source": [
        "# Training\n",
        "\n",
        "x_train = torch.FloatTensor([[6.3, 3.3, 6.0, 2.5],\n",
        "                             [5.8, 2.7, 5.1, 1.9],\n",
        "                             [7.1, 3.0, 5.9, 2.1],\n",
        "                             [5.1, 3.5, 1.4, 0.2],\n",
        "                             [4.9, 3.0, 1.4, 0.2],\n",
        "                             [4.7, 3.2, 1.3, 0.2],\n",
        "                             [7.0, 3.2, 4.7, 1.4],\n",
        "                             [6.4, 3.2, 4.5, 1.5],\n",
        "                             [6.9, 3.1, 5.0, 1.6]])\n",
        "\n",
        "# class 0: virginica, class 1: setosa, class 2: versicolor\n",
        "y_train = torch.LongTensor([0,0,0,1,1,1,2,2,2])\n",
        "\n",
        "model = SoftmaxRegression()\n",
        "\n",
        "optimizer = torch.optim.SGD(model.parameters(), lr=1e-1)\n",
        "nb_epochs = 1000\n",
        "for epoch in range(nb_epochs+1):\n",
        "  prediction = model(x_train)\n",
        "  cost = F.cross_entropy(prediction, y_train)\n",
        "\n",
        "  optimizer.zero_grad()\n",
        "  cost.backward()\n",
        "  optimizer.step()\n",
        "\n",
        "  if epoch % 100 == 0:\n",
        "    correct_prediction = torch.argmax(prediction, 1) == y_train\n",
        "    accuracy = correct_prediction.float().mean().item()\n",
        "    print(f'Epoch {epoch:4d} / {nb_epochs} Cost: {cost.item():.6f} Accuracy: {accuracy*100:2.2f}')"
      ],
      "metadata": {
        "colab": {
          "base_uri": "https://localhost:8080/"
        },
        "id": "29YHjQElQNcz",
        "outputId": "090e99c2-adc9-4eb5-e051-ae910d85abbe"
      },
      "execution_count": 10,
      "outputs": [
        {
          "output_type": "stream",
          "name": "stdout",
          "text": [
            "Epoch    0 / 1000 Cost: 2.479935 Accuracy: 33.33\n",
            "Epoch  100 / 1000 Cost: 0.287630 Accuracy: 100.00\n",
            "Epoch  200 / 1000 Cost: 0.164817 Accuracy: 100.00\n",
            "Epoch  300 / 1000 Cost: 0.124258 Accuracy: 100.00\n",
            "Epoch  400 / 1000 Cost: 0.099796 Accuracy: 100.00\n",
            "Epoch  500 / 1000 Cost: 0.083411 Accuracy: 100.00\n",
            "Epoch  600 / 1000 Cost: 0.071668 Accuracy: 100.00\n",
            "Epoch  700 / 1000 Cost: 0.062840 Accuracy: 100.00\n",
            "Epoch  800 / 1000 Cost: 0.055961 Accuracy: 100.00\n",
            "Epoch  900 / 1000 Cost: 0.050450 Accuracy: 100.00\n",
            "Epoch 1000 / 1000 Cost: 0.045936 Accuracy: 100.00\n"
          ]
        }
      ]
    },
    {
      "cell_type": "code",
      "source": [
        "# Testing\n",
        "test_data = torch.FloatTensor([[6.3, 2.9, 5.6, 1.8],\n",
        "                               [6.5, 3.0, 5.8, 2.2],\n",
        "                               [4.6, 3.1, 1.5, 0.2],\n",
        "                               [5.0, 3.6, 1.4, 0.2],\n",
        "                               [5.5, 2.3, 4.0, 1.3],\n",
        "                               [6.5, 2.8, 4.6, 1.5]])\n",
        "prediction = F.softmax(model(test_data), dim = 1)\n",
        "print(prediction)"
      ],
      "metadata": {
        "colab": {
          "base_uri": "https://localhost:8080/"
        },
        "id": "eP8WWX3DQu5g",
        "outputId": "336491c5-4b78-4a92-f307-431e2492ee4e"
      },
      "execution_count": 11,
      "outputs": [
        {
          "output_type": "stream",
          "name": "stdout",
          "text": [
            "tensor([[9.4322e-01, 3.5028e-05, 5.6748e-02],\n",
            "        [9.8191e-01, 7.4342e-06, 1.8083e-02],\n",
            "        [1.7900e-07, 9.7643e-01, 2.3572e-02],\n",
            "        [5.2628e-09, 9.9352e-01, 6.4839e-03],\n",
            "        [2.0849e-01, 7.4503e-03, 7.8406e-01],\n",
            "        [8.6223e-02, 4.8565e-03, 9.0892e-01]], grad_fn=<SoftmaxBackward0>)\n"
          ]
        }
      ]
    },
    {
      "cell_type": "markdown",
      "source": [
        "# Softmax Regression for MNIST dataset"
      ],
      "metadata": {
        "id": "4UB44reNwt2Q"
      }
    },
    {
      "cell_type": "code",
      "source": [
        "# Model code\n",
        "\n",
        "class MNIST_SoftmaxRegression(nn.Module):\n",
        "  def __init__(self):\n",
        "    super().__init__()\n",
        "    self.linear = nn.Linear(784, 10)\n",
        "  def forward(self, x):\n",
        "    return self.linear(x)"
      ],
      "metadata": {
        "id": "Jr19hTstwXRp"
      },
      "execution_count": 12,
      "outputs": []
    },
    {
      "cell_type": "code",
      "source": [
        "# Library Reference\n",
        "import torchvision.datasets as dsets\n",
        "import torchvision.transforms as transforms\n",
        "from torch.utils.data import DataLoader\n",
        "import matplotlib.pyplot as plt\n",
        "import random"
      ],
      "metadata": {
        "id": "2Gp0Q13BxTHR"
      },
      "execution_count": 14,
      "outputs": []
    },
    {
      "cell_type": "code",
      "source": [
        "# trianing\n",
        "\n",
        "# hyperparameters\n",
        "training_epochs = 15\n",
        "batch_size = 100\n",
        "\n",
        "# MNIST dataset\n",
        "mnist_train = dsets.MNIST(root='MNIST_data/',\n",
        "                          train=True,\n",
        "                          transform=transforms.ToTensor(),\n",
        "                          download=True)\n",
        "\n",
        "mnist_test = dsets.MNIST(root='MNIST_data/',\n",
        "                         train=False,\n",
        "                         transform=transforms.ToTensor(),\n",
        "                         download=True)\n",
        "\n",
        "# dataset loader\n",
        "data_loader = DataLoader(dataset=mnist_train,\n",
        "                         batch_size=batch_size,\n",
        "                         shuffle=True)\n",
        "\n",
        "model = MNIST_SoftmaxRegression()\n",
        "criterion = nn.CrossEntropyLoss()\n",
        "optimizer = torch.optim.SGD(model.parameters(), lr=0.1)\n",
        "\n",
        "for epoch in range(training_epochs):\n",
        "  avg_cost = 0\n",
        "  total_batch = len(data_loader)\n",
        "\n",
        "  for idx, (x_train, y_train) in enumerate(data_loader):\n",
        "    x_train = x_train.view(-1, 28*28)\n",
        "\n",
        "    prediction = model(x_train)\n",
        "    cost = criterion(prediction, y_train)\n",
        "\n",
        "    optimizer.zero_grad()\n",
        "    cost.backward()\n",
        "    optimizer.step()\n",
        "\n",
        "    avg_cost += cost / total_batch\n",
        "\n",
        "  print(f'Epoch: {epoch+1:04d} cost = {avg_cost:.9f}')\n",
        "print('Learning finished')"
      ],
      "metadata": {
        "colab": {
          "base_uri": "https://localhost:8080/"
        },
        "id": "fqxpfqWfxuaX",
        "outputId": "8327beb9-cac4-4076-d3f0-0c1a205d2a57"
      },
      "execution_count": 16,
      "outputs": [
        {
          "output_type": "stream",
          "name": "stdout",
          "text": [
            "Epoch: 0001 cost = 0.536037326\n",
            "Epoch: 0002 cost = 0.358905882\n",
            "Epoch: 0003 cost = 0.330962867\n",
            "Epoch: 0004 cost = 0.316325516\n",
            "Epoch: 0005 cost = 0.306863338\n",
            "Epoch: 0006 cost = 0.300043613\n",
            "Epoch: 0007 cost = 0.294771910\n",
            "Epoch: 0008 cost = 0.290302008\n",
            "Epoch: 0009 cost = 0.287469476\n",
            "Epoch: 0010 cost = 0.284229100\n",
            "Epoch: 0011 cost = 0.281752527\n",
            "Epoch: 0012 cost = 0.279611737\n",
            "Epoch: 0013 cost = 0.277581096\n",
            "Epoch: 0014 cost = 0.275908321\n",
            "Epoch: 0015 cost = 0.274456114\n",
            "Learning finished\n"
          ]
        }
      ]
    },
    {
      "cell_type": "code",
      "source": [
        "# test model\n",
        "with torch.no_grad():\n",
        "  x_test = mnist_test.test_data.view(-1, 28*28).float()\n",
        "  y_test = mnist_test.targets\n",
        "\n",
        "  prediction = model(x_test)\n",
        "\n",
        "  correct_prediction = torch.argmax(prediction, 1) == y_test\n",
        "  accuracy = correct_prediction.float().mean()\n",
        "  print(f'Accuracy: {accuracy.item()}')"
      ],
      "metadata": {
        "colab": {
          "base_uri": "https://localhost:8080/"
        },
        "id": "6LD6CFXp6bnQ",
        "outputId": "4d533dae-ece1-47a6-d6fa-5de33a9318ad"
      },
      "execution_count": 17,
      "outputs": [
        {
          "output_type": "stream",
          "name": "stdout",
          "text": [
            "Accuracy: 0.8801000118255615\n"
          ]
        },
        {
          "output_type": "stream",
          "name": "stderr",
          "text": [
            "/usr/local/lib/python3.10/dist-packages/torchvision/datasets/mnist.py:81: UserWarning: test_data has been renamed data\n",
            "  warnings.warn(\"test_data has been renamed data\")\n"
          ]
        }
      ]
    },
    {
      "cell_type": "code",
      "source": [
        "# 무작위 예측\n",
        "with torch.no_grad():\n",
        "    r = random.randint(0, len(mnist_test) - 1)\n",
        "    x_single_data = mnist_test.data[r:r + 1].view(-1, 28 * 28).float()\n",
        "    y_single_data = mnist_test.targets[r:r + 1]\n",
        "\n",
        "    print('Label: ', y_single_data.item())\n",
        "    single_prediction = model(x_single_data)\n",
        "    print('Prediction: ', torch.argmax(single_prediction, 1).item())\n",
        "\n",
        "    plt.imshow(mnist_test.data[r:r + 1].view(28, 28), cmap='Greys', interpolation='nearest')\n",
        "    plt.show()"
      ],
      "metadata": {
        "colab": {
          "base_uri": "https://localhost:8080/",
          "height": 466
        },
        "id": "ht3QQV09Bdop",
        "outputId": "39d389ca-b26f-4054-9ce2-fae95b24aee2"
      },
      "execution_count": 18,
      "outputs": [
        {
          "output_type": "stream",
          "name": "stdout",
          "text": [
            "Label:  3\n",
            "Prediction:  3\n"
          ]
        },
        {
          "output_type": "display_data",
          "data": {
            "text/plain": [
              "<Figure size 640x480 with 1 Axes>"
            ],
            "image/png": "[encoded data removed]"
          },
          "metadata": {}
        }
      ]
    }
  ]
}