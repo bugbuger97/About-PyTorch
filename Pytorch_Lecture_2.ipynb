{
  "nbformat": 4,
  "nbformat_minor": 0,
  "metadata": {
    "colab": {
      "provenance": []
    },
    "kernelspec": {
      "name": "python3",
      "display_name": "Python 3"
    },
    "language_info": {
      "name": "python"
    }
  },
  "cells": [
    {
      "cell_type": "markdown",
      "source": [
        "Manipulating tensors in PyTorch"
      ],
      "metadata": {
        "id": "thab84rAG6jj"
      }
    },
    {
      "cell_type": "code",
      "source": [
        "import torch"
      ],
      "metadata": {
        "id": "nu21B-zfIqgv"
      },
      "execution_count": 1,
      "outputs": []
    },
    {
      "cell_type": "code",
      "source": [
        "# squeeze() method: A function that removes all dimensions of size 1 by squeezing the tensor.\n",
        "t = torch.FloatTensor([[0],[2],[4],[6]])\n",
        "print(t)\n",
        "print(t.shape,'\\n')\n",
        "print(t.squeeze())\n",
        "print(t.squeeze().shape,'\\n')"
      ],
      "metadata": {
        "id": "RzTK7PTBJiJb",
        "colab": {
          "base_uri": "https://localhost:8080/"
        },
        "outputId": "b748df1f-56a6-4c54-9085-b4782cfff5b2"
      },
      "execution_count": 5,
      "outputs": [
        {
          "output_type": "stream",
          "name": "stdout",
          "text": [
            "tensor([[0.],\n",
            "        [2.],\n",
            "        [4.],\n",
            "        [6.]])\n",
            "torch.Size([4, 1]) \n",
            "\n",
            "tensor([0., 2., 4., 6.])\n",
            "torch.Size([4]) \n",
            "\n"
          ]
        }
      ]
    },
    {
      "cell_type": "code",
      "source": [
        "# unsqueeze() method: Adds a dimension of size 1 to the input index.\n",
        "t = torch.FloatTensor([1,2,4,8,16])\n",
        "print(t)\n",
        "print(t.shape,'\\n')\n",
        "print(t.unsqueeze(0)) # Since the index starts from 0, 0 refers to the first dimension.\n",
        "print(t.unsqueeze(0).shape,'\\n')\n",
        "print(t.unsqueeze(1)) # Since the index starts from 1, 1 refers to the second dimension.\n",
        "print(t.unsqueeze(1).shape,'\\n')"
      ],
      "metadata": {
        "colab": {
          "base_uri": "https://localhost:8080/"
        },
        "id": "cVP4Ht9AI884",
        "outputId": "63bec8cf-df25-4c85-f001-2494fe356fa5"
      },
      "execution_count": 9,
      "outputs": [
        {
          "output_type": "stream",
          "name": "stdout",
          "text": [
            "tensor([ 1.,  2.,  4.,  8., 16.])\n",
            "torch.Size([5]) \n",
            "\n",
            "tensor([[ 1.,  2.,  4.,  8., 16.]])\n",
            "torch.Size([1, 5]) \n",
            "\n",
            "tensor([[ 1.],\n",
            "        [ 2.],\n",
            "        [ 4.],\n",
            "        [ 8.],\n",
            "        [16.]])\n",
            "torch.Size([5, 1]) \n",
            "\n"
          ]
        }
      ]
    },
    {
      "cell_type": "code",
      "source": [
        "# Type casting : The type of a tensor can be changed through methods corresponding to each tensor type name, such as long(), float(), and double().\n",
        "t = torch.DoubleTensor([2,4,8,16,32])\n",
        "print(t)\n",
        "print(t.long())\n",
        "print(t.float())"
      ],
      "metadata": {
        "colab": {
          "base_uri": "https://localhost:8080/"
        },
        "id": "FdsLf09QJ_kl",
        "outputId": "6ec56d01-60b7-462d-8f1c-efb001bca952"
      },
      "execution_count": 11,
      "outputs": [
        {
          "output_type": "stream",
          "name": "stdout",
          "text": [
            "tensor([ 2.,  4.,  8., 16., 32.], dtype=torch.float64)\n",
            "tensor([ 2,  4,  8, 16, 32])\n",
            "tensor([ 2.,  4.,  8., 16., 32.])\n"
          ]
        }
      ]
    },
    {
      "cell_type": "code",
      "source": [
        "# Concatenate -> torch.cat(): This function can connect tensors. At this time, which index dimension to connect must be entered through the dim parameter.\n",
        "x = torch.FloatTensor([[0,2],\n",
        "                       [4,6]]) # 2 x 2\n",
        "y = torch.FloatTensor([[1,3],\n",
        "                       [5,7]]) # 2 x 2\n",
        "\n",
        "print(torch.cat([x,y],dim=0),'\\n')\n",
        "print(torch.cat([x,y],dim=1))"
      ],
      "metadata": {
        "colab": {
          "base_uri": "https://localhost:8080/"
        },
        "id": "I8uifS9ALe9O",
        "outputId": "ca042a0e-26ee-4e63-a378-1156d1e0f6c5"
      },
      "execution_count": 15,
      "outputs": [
        {
          "output_type": "stream",
          "name": "stdout",
          "text": [
            "tensor([[0., 2.],\n",
            "        [4., 6.],\n",
            "        [1., 3.],\n",
            "        [5., 7.]]) \n",
            "\n",
            "tensor([[0., 2., 1., 3.],\n",
            "        [4., 6., 5., 7.]])\n"
          ]
        }
      ]
    },
    {
      "cell_type": "code",
      "source": [
        "x = torch.FloatTensor([[0,2],\n",
        "                       [4,6],\n",
        "                       [8,10]]) # 3 x 2\n",
        "y = torch.FloatTensor([[1,3,5],\n",
        "                       [7,9,11]]) # 2 x 3\n",
        "\n",
        "y = y.view(3,2)\n",
        "print(y,'\\n')\n",
        "print(torch.cat([x,y],dim=0),'\\n')\n",
        "print(torch.cat([x,y],dim=1))"
      ],
      "metadata": {
        "colab": {
          "base_uri": "https://localhost:8080/"
        },
        "id": "W_qhMytKMtpM",
        "outputId": "219d4524-da58-43ba-993d-fc2f7777cc96"
      },
      "execution_count": 20,
      "outputs": [
        {
          "output_type": "stream",
          "name": "stdout",
          "text": [
            "tensor([[ 1.,  3.],\n",
            "        [ 5.,  7.],\n",
            "        [ 9., 11.]]) \n",
            "\n",
            "tensor([[ 0.,  2.],\n",
            "        [ 4.,  6.],\n",
            "        [ 8., 10.],\n",
            "        [ 1.,  3.],\n",
            "        [ 5.,  7.],\n",
            "        [ 9., 11.]]) \n",
            "\n",
            "tensor([[ 0.,  2.,  1.,  3.],\n",
            "        [ 4.,  6.,  5.,  7.],\n",
            "        [ 8., 10.,  9., 11.]])\n"
          ]
        }
      ]
    },
    {
      "cell_type": "code",
      "source": [
        "# ones_like(), zeros_like() : These function can create a tensor filled with 1 or a tensor filled with 0 with the same shape as the input tensor.\n",
        "t = torch.FloatTensor([[1,2,3],[4,5,6],[7,8,9],[10,11,12]])\n",
        "print(t,'\\n')\n",
        "print(torch.ones_like(t),'\\n')\n",
        "print(torch.zeros_like(t))"
      ],
      "metadata": {
        "colab": {
          "base_uri": "https://localhost:8080/"
        },
        "id": "kt0GGOP_N3VA",
        "outputId": "a00ef730-11fb-4728-ae47-1da0181430d4"
      },
      "execution_count": 22,
      "outputs": [
        {
          "output_type": "stream",
          "name": "stdout",
          "text": [
            "tensor([[ 1.,  2.,  3.],\n",
            "        [ 4.,  5.,  6.],\n",
            "        [ 7.,  8.,  9.],\n",
            "        [10., 11., 12.]]) \n",
            "\n",
            "tensor([[1., 1., 1.],\n",
            "        [1., 1., 1.],\n",
            "        [1., 1., 1.],\n",
            "        [1., 1., 1.]]) \n",
            "\n",
            "tensor([[0., 0., 0.],\n",
            "        [0., 0., 0.],\n",
            "        [0., 0., 0.],\n",
            "        [0., 0., 0.]])\n"
          ]
        }
      ]
    },
    {
      "cell_type": "code",
      "source": [
        "# ones(), zero() : By entering shape information as if entering the view() method, you can create a tensor filled with 1 or 0 with the corresponding shape.\n",
        "print(torch.ones(5,4),'\\n') # Creates a tensor filled with 1 or 0 by specifying the shape.\n",
        "print(torch.zeros(1,1))"
      ],
      "metadata": {
        "colab": {
          "base_uri": "https://localhost:8080/"
        },
        "id": "7zDv4Ga-QJuj",
        "outputId": "842388f0-7f99-4b01-8f6e-6bdbe335f145"
      },
      "execution_count": 24,
      "outputs": [
        {
          "output_type": "stream",
          "name": "stdout",
          "text": [
            "tensor([[1., 1., 1., 1.],\n",
            "        [1., 1., 1., 1.],\n",
            "        [1., 1., 1., 1.],\n",
            "        [1., 1., 1., 1.],\n",
            "        [1., 1., 1., 1.]]) \n",
            "\n",
            "tensor([[0.]])\n"
          ]
        }
      ]
    }
  ]
}