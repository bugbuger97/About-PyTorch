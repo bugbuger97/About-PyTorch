{
  "nbformat": 4,
  "nbformat_minor": 0,
  "metadata": {
    "colab": {
      "provenance": []
    },
    "kernelspec": {
      "name": "python3",
      "display_name": "Python 3"
    },
    "language_info": {
      "name": "python"
    }
  },
  "cells": [
    {
      "cell_type": "markdown",
      "source": [
        "# 목차\n",
        "\n",
        "1. 파이썬 - 타입, 라이브러리, 함수, 모듈, 클래스, 그래프 그리기\n",
        "\n",
        "2. 파이토치 - 텐서, 역전파, 데이터 불러오기\n",
        "\n",
        "3. 지도학습 - 집 값 예측, 이미지 분류, 주가 예측\n",
        "\n",
        "4. 전이학습\n",
        "\n",
        "5. 비지도 학습 - 오토인코더, 생성적 적대 신경망\n",
        "\n",
        "6. 시각화 - 설명 가능한 AI, 차원 축소 기법\n",
        "\n",
        "7. 성능 향상 - 과적합, 데이터 불균형 해결"
      ],
      "metadata": {
        "id": "SwgVv2Y4NWkh"
      }
    },
    {
      "cell_type": "markdown",
      "source": [
        "#Class\n",
        "\n",
        "데이터와 세부적인 기능을 수행하는 함수들을 묶어서 구현함.\n",
        "\n",
        "상속 등의 다양한 기능을 통해 프로그램의 복잡도를 감소시켜 주며 확장에 유리하게 작용함.\n",
        "\n",
        "중요 변수를 클래스에 넣어 외부의 변수들과 혼동될 위험을 줄여줌."
      ],
      "metadata": {
        "id": "3liMjMZNqXsT"
      }
    },
    {
      "cell_type": "code",
      "source": [
        "import numpy as np\n",
        "from matplotlib import pyplot as plt"
      ],
      "metadata": {
        "id": "Px64dLTdEH8t"
      },
      "execution_count": 16,
      "outputs": []
    },
    {
      "cell_type": "code",
      "source": [
        "data = np.random.normal(0,10,(100,1))\n",
        "target = np.random.normal(0,1,100)"
      ],
      "metadata": {
        "id": "X8wm3N_REQ2k"
      },
      "execution_count": 17,
      "outputs": []
    },
    {
      "cell_type": "code",
      "source": [
        "print(data)\n",
        "print()\n",
        "print(target)"
      ],
      "metadata": {
        "colab": {
          "base_uri": "https://localhost:8080/"
        },
        "id": "w-snh7--Echr",
        "outputId": "164d0078-7311-4b74-9883-ca028fef0a49"
      },
      "execution_count": 18,
      "outputs": [
        {
          "output_type": "stream",
          "name": "stdout",
          "text": [
            "[[  0.24859517]\n",
            " [ 25.78502984]\n",
            " [-10.66710398]\n",
            " [  1.72966501]\n",
            " [  1.05957205]\n",
            " [  1.89425506]\n",
            " [ -2.67244003]\n",
            " [-27.84649676]\n",
            " [ 25.26436751]\n",
            " [ 15.85047459]\n",
            " [ -4.15956897]\n",
            " [ -8.82058709]\n",
            " [ -4.55434517]\n",
            " [  1.43807363]\n",
            " [ 14.02133874]\n",
            " [ 13.23777539]\n",
            " [  8.31735278]\n",
            " [  9.49913834]\n",
            " [  6.77043993]\n",
            " [  6.17659291]\n",
            " [  5.80278978]\n",
            " [-19.65342841]\n",
            " [ -9.43507257]\n",
            " [  3.80113527]\n",
            " [ -7.42688821]\n",
            " [ -3.62079148]\n",
            " [ 20.95821301]\n",
            " [-10.5683757 ]\n",
            " [-14.21296834]\n",
            " [ -7.0777162 ]\n",
            " [ -9.84519862]\n",
            " [  4.63900329]\n",
            " [  2.9831761 ]\n",
            " [-27.78187924]\n",
            " [ -2.42247773]\n",
            " [ -0.81581222]\n",
            " [-23.11741512]\n",
            " [ -3.53799921]\n",
            " [  6.55744331]\n",
            " [  8.79251989]\n",
            " [  5.98369389]\n",
            " [ -4.91869671]\n",
            " [-16.60479322]\n",
            " [ -5.07662437]\n",
            " [ -3.80926913]\n",
            " [ 23.07191549]\n",
            " [ 12.47437006]\n",
            " [-25.57667296]\n",
            " [ -2.920703  ]\n",
            " [-12.6326332 ]\n",
            " [ -5.67311115]\n",
            " [  3.13499082]\n",
            " [-22.01812457]\n",
            " [-16.99712539]\n",
            " [-13.51330386]\n",
            " [ -9.82056697]\n",
            " [-13.6601582 ]\n",
            " [-17.40460783]\n",
            " [  1.38585421]\n",
            " [ 13.7872131 ]\n",
            " [-18.60187965]\n",
            " [ 10.34862221]\n",
            " [-11.21584504]\n",
            " [ -2.17816364]\n",
            " [ -9.28204492]\n",
            " [ 16.39221117]\n",
            " [ -8.17616104]\n",
            " [ 13.94161823]\n",
            " [  9.63187696]\n",
            " [ -5.62783996]\n",
            " [ -2.1888017 ]\n",
            " [  8.802671  ]\n",
            " [-18.53277942]\n",
            " [  7.60056101]\n",
            " [  2.5272411 ]\n",
            " [  7.53586218]\n",
            " [-13.72518297]\n",
            " [-10.42421327]\n",
            " [-10.38955598]\n",
            " [ -7.17586815]\n",
            " [ 10.36881613]\n",
            " [  5.84205262]\n",
            " [ -1.7174318 ]\n",
            " [ -3.59233338]\n",
            " [  4.36980625]\n",
            " [ 15.93418744]\n",
            " [-10.70285854]\n",
            " [ -1.28601553]\n",
            " [ 12.22598525]\n",
            " [  2.41120775]\n",
            " [ -2.29479934]\n",
            " [  6.42688528]\n",
            " [ -8.82278915]\n",
            " [-22.81966162]\n",
            " [ -6.20922694]\n",
            " [  7.74940386]\n",
            " [ -1.33825494]\n",
            " [  7.44114876]\n",
            " [ 25.05005498]\n",
            " [  8.20954514]]\n",
            "\n",
            "[-8.54486874e-01  8.41848490e-01 -1.08770053e+00 -5.33033777e-01\n",
            " -1.41911567e+00  4.15724275e-01  1.07223545e+00  2.27823083e+00\n",
            "  3.08302799e-01  3.60791515e-01 -7.13411902e-01 -4.41631102e-01\n",
            "  6.61293290e-01  7.96590769e-01 -7.30965039e-01  5.64526133e-02\n",
            "  1.71041085e+00 -9.41337960e-02 -3.79520786e-01 -2.34770196e-01\n",
            " -3.78246155e-01 -1.69390288e+00 -5.31450559e-01  3.65798437e-01\n",
            "  1.59268445e-01 -1.58758240e+00 -1.13207479e+00 -2.62313026e-01\n",
            "  1.47798218e+00  4.50918672e-01 -1.08205346e-02  3.55402501e-01\n",
            "  5.90204459e-01 -1.26109629e+00  5.73523586e-01 -8.16562222e-01\n",
            "  2.30919871e-01  7.74364960e-01 -9.42449738e-01  9.07427299e-01\n",
            " -4.99514395e-01 -1.87103115e-01  7.97978061e-01  2.88591244e-01\n",
            "  2.27704842e+00  3.43772150e-01  1.23307005e+00  1.53189914e+00\n",
            " -6.55526747e-01  1.79231179e+00 -2.46267388e+00 -6.70240151e-01\n",
            "  6.00654671e-01  1.20403965e+00 -1.54457204e-01 -4.16734870e-01\n",
            "  3.86173013e-02  1.59444889e+00  3.62736679e-01 -1.11558897e-01\n",
            "  9.72922678e-01 -9.48637607e-01  5.04173347e-01  2.37031905e-03\n",
            "  9.71575359e-01  9.25967897e-02 -2.89781769e-01 -1.85756887e+00\n",
            "  3.61931745e-01 -1.12448222e+00 -1.41624749e+00  1.38345750e+00\n",
            " -1.21861523e+00 -6.21913085e-01  9.56778659e-02  3.44574913e-01\n",
            " -1.27188981e+00 -3.67441982e-01 -1.26942983e+00  3.46301067e-01\n",
            "  7.72704807e-01  3.77622299e-01 -2.36337612e-01 -6.12087099e-02\n",
            "  2.00726598e-01 -3.41866135e-02 -6.83050303e-01  1.26794191e+00\n",
            "  1.94639549e+00 -2.31367825e-02  2.95723464e-01  3.22427460e-01\n",
            " -1.30291369e+00  5.03979577e-01  2.33850655e-01  7.66757765e-01\n",
            " -3.98629648e-02 -1.42641603e+00 -1.86113198e+00 -1.39563745e-01]\n"
          ]
        }
      ]
    },
    {
      "cell_type": "code",
      "source": [
        "class LinearReg:\n",
        "  def __init__(self, data, target, scaling=False):\n",
        "    self.data = data\n",
        "    self.target = target\n",
        "    self.num_instances = self.data.shape[0] # 행이 들어감\n",
        "    self.num_features = self.data.shape[1] # 열이 들어감\n",
        "    self.scaling = scaling\n",
        "    print(f\"num_instances = {self.num_instances}, num_features = {self.num_features}, scaling = {self.scaling}\")\n",
        "\n",
        "  def minmax(self): # 모든 변수를 0과 1사이로 만들어 주는 스케일링이다.\n",
        "    for i in range(self.num_features):\n",
        "      col = self.data[:,i]\n",
        "      self.data[:,i] = (self.data[:,i]-np.min(col)) / (np.max(col)-np.min(col))\n",
        "    return self # self 반환 : 메서드가 호출된 인스턴스 개체에 대한 참조를 반환한다는 것임.\n",
        "\n",
        "  def solver(self):\n",
        "    if self.scaling == True:\n",
        "      self.minmax()\n",
        "    plt.plot(self.data, self.target, '.')\n",
        "    plt.show()"
      ],
      "metadata": {
        "id": "lrNmApe0EgKA"
      },
      "execution_count": 20,
      "outputs": []
    },
    {
      "cell_type": "code",
      "source": [
        "m = LinearReg(data, target)"
      ],
      "metadata": {
        "colab": {
          "base_uri": "https://localhost:8080/"
        },
        "id": "BujdZ0pfGQdc",
        "outputId": "6dcdf25c-f543-4028-dc27-f7b32009e4c7"
      },
      "execution_count": 21,
      "outputs": [
        {
          "output_type": "stream",
          "name": "stdout",
          "text": [
            "num_instances = 100, num_features = 1, scaling = False\n"
          ]
        }
      ]
    },
    {
      "cell_type": "code",
      "source": [
        "m.solver()"
      ],
      "metadata": {
        "colab": {
          "base_uri": "https://localhost:8080/",
          "height": 430
        },
        "id": "RsHI_tspHbTT",
        "outputId": "694a2b35-d80b-4e7c-efd7-0a3fc38a169a"
      },
      "execution_count": 22,
      "outputs": [
        {
          "output_type": "display_data",
          "data": {
            "text/plain": [
              "<Figure size 640x480 with 1 Axes>"
            ],
            "image/png": "[encoded data removed]"
          },
          "metadata": {}
        }
      ]
    },
    {
      "cell_type": "code",
      "source": [
        "m = LinearReg(data, target, scaling = True)"
      ],
      "metadata": {
        "colab": {
          "base_uri": "https://localhost:8080/"
        },
        "id": "xndI5rPaHkdX",
        "outputId": "36755487-b81a-4642-bf58-e882065f7fdf"
      },
      "execution_count": 23,
      "outputs": [
        {
          "output_type": "stream",
          "name": "stdout",
          "text": [
            "num_instances = 100, num_features = 1, scaling = True\n"
          ]
        }
      ]
    },
    {
      "cell_type": "code",
      "source": [
        "m.solver()"
      ],
      "metadata": {
        "colab": {
          "base_uri": "https://localhost:8080/",
          "height": 430
        },
        "id": "ARU6lVWSHv6t",
        "outputId": "c93320a1-8e72-46d2-8593-be4d182e1867"
      },
      "execution_count": 25,
      "outputs": [
        {
          "output_type": "display_data",
          "data": {
            "text/plain": [
              "<Figure size 640x480 with 1 Axes>"
            ],
            "image/png": "[encoded data removed]"
          },
          "metadata": {}
        }
      ]
    }
  ]
}