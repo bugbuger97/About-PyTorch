{
  "nbformat": 4,
  "nbformat_minor": 0,
  "metadata": {
    "colab": {
      "provenance": []
    },
    "kernelspec": {
      "name": "python3",
      "display_name": "Python 3"
    },
    "language_info": {
      "name": "python"
    }
  },
  "cells": [
    {
      "cell_type": "markdown",
      "source": [
        "# 목차\n",
        "\n",
        "1. 파이썬 - 타입, 라이브러리, 함수, 모듈, 클래스, 그래프 그리기\n",
        "\n",
        "2. 파이토치 - 텐서, 역전파, 데이터 불러오기\n",
        "\n",
        "3. 지도학습 - 집 값 예측, 이미지 분류, 주가 예측\n",
        "\n",
        "4. 전이학습\n",
        "\n",
        "5. 비지도 학습 - 오토인코더, 생성적 적대 신경망\n",
        "\n",
        "6. 시각화 - 설명 가능한 AI, 차원 축소 기법\n",
        "\n",
        "7. 성능 향상 - 과적합, 데이터 불균형 해결"
      ],
      "metadata": {
        "id": "SwgVv2Y4NWkh"
      }
    },
    {
      "cell_type": "markdown",
      "source": [
        "#1. Numpy 배열"
      ],
      "metadata": {
        "id": "yXiitMKYlh_K"
      }
    },
    {
      "cell_type": "code",
      "source": [
        "import numpy # 라이브러리 불러오기"
      ],
      "metadata": {
        "id": "Kkl7Q5qDn-Hy"
      },
      "execution_count": 1,
      "outputs": []
    },
    {
      "cell_type": "code",
      "source": [
        "arr = numpy.array([1,2,3,4])\n",
        "print(arr, type(arr))"
      ],
      "metadata": {
        "colab": {
          "base_uri": "https://localhost:8080/"
        },
        "id": "wdFEhHi_oAmu",
        "outputId": "29ba4796-b50e-4b08-a5ab-ea98bc8cdcc1"
      },
      "execution_count": 2,
      "outputs": [
        {
          "output_type": "stream",
          "name": "stdout",
          "text": [
            "[1 2 3 4] <class 'numpy.ndarray'>\n"
          ]
        }
      ]
    },
    {
      "cell_type": "markdown",
      "source": [
        "#2. 라이브러리\n",
        "\n",
        "import를 통해 미리 만들어 놓은 함수와 클래스를 쉽게 사용할 수 있다."
      ],
      "metadata": {
        "id": "YcAjgezDoRx3"
      }
    },
    {
      "cell_type": "code",
      "source": [
        "import numpy as np"
      ],
      "metadata": {
        "id": "2PZ5r3jYoK2C"
      },
      "execution_count": 3,
      "outputs": []
    },
    {
      "cell_type": "code",
      "source": [
        "arr = np.array([1,2,3,4])\n",
        "print(arr, type(arr))"
      ],
      "metadata": {
        "colab": {
          "base_uri": "https://localhost:8080/"
        },
        "id": "IRZBaNApolOX",
        "outputId": "eb9d901b-cb5a-4b56-ed25-0795a559e669"
      },
      "execution_count": 5,
      "outputs": [
        {
          "output_type": "stream",
          "name": "stdout",
          "text": [
            "[1 2 3 4] <class 'numpy.ndarray'>\n"
          ]
        }
      ]
    },
    {
      "cell_type": "code",
      "source": [
        "# numpy 내 특정 함수만 불러오기\n",
        "from numpy import array, ones, zeros"
      ],
      "metadata": {
        "id": "NBqYjO1dovF3"
      },
      "execution_count": 6,
      "outputs": []
    },
    {
      "cell_type": "code",
      "source": [
        "a = array([1,2,3,4])\n",
        "b = ones(5)\n",
        "c = zeros((5,3))"
      ],
      "metadata": {
        "id": "zYLFF63qo_XT"
      },
      "execution_count": 8,
      "outputs": []
    },
    {
      "cell_type": "code",
      "source": [
        "print(a)\n",
        "print()\n",
        "print(b)\n",
        "print()\n",
        "print(c)"
      ],
      "metadata": {
        "colab": {
          "base_uri": "https://localhost:8080/"
        },
        "id": "aLkZnf8ypHWc",
        "outputId": "b9d31b12-3953-40d7-a36f-4f31a44e8dde"
      },
      "execution_count": 12,
      "outputs": [
        {
          "output_type": "stream",
          "name": "stdout",
          "text": [
            "[1 2 3 4]\n",
            "\n",
            "[1. 1. 1. 1. 1.]\n",
            "\n",
            "[[0. 0. 0.]\n",
            " [0. 0. 0.]\n",
            " [0. 0. 0.]\n",
            " [0. 0. 0.]\n",
            " [0. 0. 0.]]\n"
          ]
        }
      ]
    }
  ]
}